{
  "nbformat": 4,
  "nbformat_minor": 0,
  "metadata": {
    "colab": {
      "provenance": []
    },
    "kernelspec": {
      "name": "python3",
      "display_name": "Python 3"
    },
    "language_info": {
      "name": "python"
    },
    "accelerator": "GPU",
    "gpuClass": "standard"
  },
  "cells": [
    {
      "cell_type": "code",
      "execution_count": 46,
      "metadata": {
        "id": "WMO1O_krm0ZC"
      },
      "outputs": [],
      "source": [
        "import pandas as pd\n",
        "import numpy as np\n",
        "import matplotlib.pyplot as plt\n",
        "\n",
        "from sklearn.datasets import make_moons\n",
        "from sklearn.model_selection import train_test_split\n",
        "\n",
        "import torch\n",
        "from torch import nn\n"
      ]
    },
    {
      "cell_type": "code",
      "source": [
        "x_moons, y_moons=make_moons(n_samples=1000, random_state=42)\n",
        "x_moons"
      ],
      "metadata": {
        "colab": {
          "base_uri": "https://localhost:8080/"
        },
        "id": "yKLvOr3wnlq5",
        "outputId": "47d15959-eb63-4765-a948-80bb51ca9de4"
      },
      "execution_count": 47,
      "outputs": [
        {
          "output_type": "execute_result",
          "data": {
            "text/plain": [
              "array([[ 0.00872719,  0.36817352],\n",
              "       [ 0.921384  , -0.49690497],\n",
              "       [ 0.94022577, -0.49821192],\n",
              "       ...,\n",
              "       [ 1.64091013, -0.26761592],\n",
              "       [-0.91991616,  0.39211512],\n",
              "       [ 0.80079841,  0.59893397]])"
            ]
          },
          "metadata": {},
          "execution_count": 47
        }
      ]
    },
    {
      "cell_type": "code",
      "source": [
        "x_moons=torch.from_numpy(x_moons).type(torch.float)\n",
        "y_moons=torch.from_numpy(y_moons).type(torch.float)\n",
        "torch.unique(y_moons)"
      ],
      "metadata": {
        "colab": {
          "base_uri": "https://localhost:8080/"
        },
        "id": "kSiF1t0KoE7s",
        "outputId": "a8665a44-b8e4-43ab-8882-842df141ab41"
      },
      "execution_count": 48,
      "outputs": [
        {
          "output_type": "execute_result",
          "data": {
            "text/plain": [
              "tensor([0., 1.])"
            ]
          },
          "metadata": {},
          "execution_count": 48
        }
      ]
    },
    {
      "cell_type": "code",
      "source": [
        "x_train,x_test,y_train,y_test= train_test_split(x_moons,y_moons, test_size=0.2, random_state=42)\n",
        "len(x_train), len(x_test)"
      ],
      "metadata": {
        "colab": {
          "base_uri": "https://localhost:8080/"
        },
        "id": "kNTv3AqZoU9G",
        "outputId": "8a575fa3-7ad0-45d4-e952-8c5aee1017d5"
      },
      "execution_count": 49,
      "outputs": [
        {
          "output_type": "execute_result",
          "data": {
            "text/plain": [
              "(800, 200)"
            ]
          },
          "metadata": {},
          "execution_count": 49
        }
      ]
    },
    {
      "cell_type": "code",
      "source": [
        "plt.figure(figsize=(10,7))\n",
        "plt.scatter(x_moons[:,0],x_moons[:,1], c=y_moons, cmap=plt.cm.RdYlBu)"
      ],
      "metadata": {
        "colab": {
          "base_uri": "https://localhost:8080/",
          "height": 445
        },
        "id": "ris8NK6cqhkt",
        "outputId": "00123683-642a-498a-b9f7-7490a56cbf55"
      },
      "execution_count": 50,
      "outputs": [
        {
          "output_type": "execute_result",
          "data": {
            "text/plain": [
              "<matplotlib.collections.PathCollection at 0x7f45e234fbb0>"
            ]
          },
          "metadata": {},
          "execution_count": 50
        },
        {
          "output_type": "display_data",
          "data": {
            "text/plain": [
              "<Figure size 720x504 with 1 Axes>"
            ],
            "image/png": "[encoded data removed]"
          },
          "metadata": {
            "needs_background": "light"
          }
        }
      ]
    },
    {
      "cell_type": "code",
      "source": [
        "#build model\n",
        "#device\n",
        "device='cuda' if torch.cuda.is_available() else 'cpu'\n",
        "device"
      ],
      "metadata": {
        "colab": {
          "base_uri": "https://localhost:8080/",
          "height": 35
        },
        "id": "feqvybHYppA2",
        "outputId": "f5d27759-2842-4cca-d095-0cfe75b9434d"
      },
      "execution_count": 51,
      "outputs": [
        {
          "output_type": "execute_result",
          "data": {
            "text/plain": [
              "'cuda'"
            ],
            "application/vnd.google.colaboratory.intrinsic+json": {
              "type": "string"
            }
          },
          "metadata": {},
          "execution_count": 51
        }
      ]
    },
    {
      "cell_type": "code",
      "source": [
        "#model\n",
        "\n",
        "class MoonModel(nn.Module):\n",
        "  def __init__(self):\n",
        "    super().__init__()\n",
        "    self.layer1=nn.Linear(in_features=2, out_features=32)\n",
        "    self.layer2=nn.ReLU()\n",
        "    self.layer3=nn.Linear(in_features=32, out_features=32)\n",
        "    self.layer4=nn.ReLU()\n",
        "    self.layer5=nn.Linear(in_features=32, out_features=1)\n",
        "\n",
        "  def forward(self, x):\n",
        "    return self.layer5(self.layer4(self.layer3(self.layer2(self.layer1(x)))))\n",
        "\n",
        "model=MoonModel().to(device)\n",
        "model"
      ],
      "metadata": {
        "colab": {
          "base_uri": "https://localhost:8080/"
        },
        "id": "PTNVGn0wqJYr",
        "outputId": "68daa52b-d349-44af-b7f2-00b761b2ef4d"
      },
      "execution_count": 52,
      "outputs": [
        {
          "output_type": "execute_result",
          "data": {
            "text/plain": [
              "MoonModel(\n",
              "  (layer1): Linear(in_features=2, out_features=32, bias=True)\n",
              "  (layer2): ReLU()\n",
              "  (layer3): Linear(in_features=32, out_features=32, bias=True)\n",
              "  (layer4): ReLU()\n",
              "  (layer5): Linear(in_features=32, out_features=1, bias=True)\n",
              ")"
            ]
          },
          "metadata": {},
          "execution_count": 52
        }
      ]
    },
    {
      "cell_type": "code",
      "source": [
        "model.state_dict()"
      ],
      "metadata": {
        "colab": {
          "base_uri": "https://localhost:8080/"
        },
        "id": "Q_unj_B0sow9",
        "outputId": "62532e98-b77f-4622-dd48-5d26af889f12"
      },
      "execution_count": 53,
      "outputs": [
        {
          "output_type": "execute_result",
          "data": {
            "text/plain": [
              "OrderedDict([('layer1.weight', tensor([[ 0.5406,  0.5869],\n",
              "                      [-0.1657,  0.6496],\n",
              "                      [-0.1549,  0.1427],\n",
              "                      [-0.3443,  0.4153],\n",
              "                      [ 0.6233, -0.5188],\n",
              "                      [ 0.6146,  0.1323],\n",
              "                      [ 0.5224,  0.0958],\n",
              "                      [ 0.3410, -0.0998],\n",
              "                      [ 0.5451,  0.1045],\n",
              "                      [-0.3301,  0.1802],\n",
              "                      [-0.3258, -0.0829],\n",
              "                      [-0.2872,  0.4691],\n",
              "                      [-0.5582, -0.3260],\n",
              "                      [-0.1997, -0.4252],\n",
              "                      [ 0.0667, -0.6984],\n",
              "                      [ 0.6386, -0.6007],\n",
              "                      [ 0.5459,  0.1177],\n",
              "                      [-0.2296,  0.4370],\n",
              "                      [ 0.1102,  0.5713],\n",
              "                      [ 0.0773, -0.2230],\n",
              "                      [ 0.1900, -0.1918],\n",
              "                      [ 0.2976,  0.6313],\n",
              "                      [ 0.4087, -0.3091],\n",
              "                      [ 0.4082,  0.1265],\n",
              "                      [ 0.3591, -0.4310],\n",
              "                      [-0.7000, -0.2732],\n",
              "                      [-0.5424,  0.5802],\n",
              "                      [ 0.2037,  0.2929],\n",
              "                      [ 0.2236, -0.0123],\n",
              "                      [ 0.5534, -0.5024],\n",
              "                      [ 0.0445, -0.4826],\n",
              "                      [ 0.2180, -0.2435]], device='cuda:0')),\n",
              "             ('layer1.bias',\n",
              "              tensor([ 0.2167, -0.1473,  0.5865, -0.4191, -0.4217, -0.4217,  0.6360,  0.2356,\n",
              "                       0.6804, -0.5836, -0.7014, -0.5532, -0.4757,  0.2864,  0.2532,  0.5876,\n",
              "                      -0.3652, -0.4820,  0.3752, -0.2858,  0.4292, -0.1678,  0.4045, -0.5494,\n",
              "                      -0.3568,  0.2156,  0.1495, -0.1803,  0.4215,  0.4807, -0.5128, -0.3775],\n",
              "                     device='cuda:0')),\n",
              "             ('layer3.weight',\n",
              "              tensor([[ 1.6187e-01, -5.9650e-02, -6.2670e-02,  ..., -1.0313e-01,\n",
              "                       -6.0510e-02, -1.3953e-01],\n",
              "                      [ 1.4822e-01, -3.5084e-02,  1.5210e-01,  ...,  6.2126e-02,\n",
              "                        5.7445e-02, -9.5574e-02],\n",
              "                      [ 1.6068e-01,  3.8847e-02,  2.2741e-02,  ...,  1.8912e-02,\n",
              "                       -3.1228e-02, -5.2680e-02],\n",
              "                      ...,\n",
              "                      [ 9.8462e-02, -2.6396e-02,  7.5079e-02,  ..., -8.2681e-02,\n",
              "                        1.7402e-01,  8.5137e-06],\n",
              "                      [-2.3996e-02, -7.3568e-02, -4.6341e-02,  ...,  1.1472e-01,\n",
              "                        1.6100e-01,  1.0316e-01],\n",
              "                      [-9.1630e-02, -1.7483e-01,  6.7054e-02,  ...,  1.3261e-01,\n",
              "                        1.0580e-01,  6.2405e-02]], device='cuda:0')),\n",
              "             ('layer3.bias',\n",
              "              tensor([-0.0904, -0.1444,  0.0067, -0.1037,  0.1453, -0.1699,  0.0790,  0.1762,\n",
              "                       0.0885,  0.0603, -0.1701,  0.1700, -0.0302, -0.1652,  0.1745, -0.0719,\n",
              "                      -0.0125,  0.1618, -0.1225, -0.1251,  0.0287, -0.0237,  0.0407, -0.1483,\n",
              "                       0.0053, -0.0786, -0.0869, -0.1619,  0.0937,  0.0341, -0.1495,  0.1403],\n",
              "                     device='cuda:0')),\n",
              "             ('layer5.weight',\n",
              "              tensor([[ 0.0533,  0.0328, -0.1038,  0.0267,  0.1703,  0.1212, -0.1377,  0.1614,\n",
              "                        0.0137,  0.0850,  0.1373,  0.1507, -0.1378,  0.1548, -0.1201,  0.0133,\n",
              "                       -0.1235, -0.0388, -0.0080, -0.0211, -0.0279,  0.0139,  0.1744,  0.1027,\n",
              "                        0.0989,  0.0708,  0.1369, -0.0082,  0.0141,  0.0364, -0.1542, -0.1424]],\n",
              "                     device='cuda:0')),\n",
              "             ('layer5.bias', tensor([0.0217], device='cuda:0'))])"
            ]
          },
          "metadata": {},
          "execution_count": 53
        }
      ]
    },
    {
      "cell_type": "code",
      "source": [
        "from torch.nn.modules.loss import BCEWithLogitsLoss\n",
        "###loss and optimizer\n",
        "\n",
        "loss_fn=BCEWithLogitsLoss()\n",
        "\n",
        "optimizer=torch.optim.SGD(params=model.parameters(), lr=0.1)\n"
      ],
      "metadata": {
        "id": "l1bAdULosuGX"
      },
      "execution_count": 54,
      "outputs": []
    },
    {
      "cell_type": "code",
      "source": [
        "###check data device\n",
        "\n",
        "x_train,y_train=x_train.to(device), y_train.to(device)\n",
        "x_test,y_test=x_test.to(device),y_test.to(device)\n",
        "\n",
        "###set seeds\n",
        "torch.manual_seed(42)\n",
        "torch.cuda.manual_seed(42)\n",
        "\n",
        "##set epochs\n",
        "epochs=1000\n"
      ],
      "metadata": {
        "id": "YFxh5n-DtLZf"
      },
      "execution_count": 55,
      "outputs": []
    },
    {
      "cell_type": "code",
      "source": [
        "!pip install torchmetrics\n"
      ],
      "metadata": {
        "colab": {
          "base_uri": "https://localhost:8080/"
        },
        "id": "Ea5pOjcMuc0w",
        "outputId": "b413a960-d6b8-46a6-ed9f-cfe9b8bf0b8a"
      },
      "execution_count": 56,
      "outputs": [
        {
          "output_type": "stream",
          "name": "stdout",
          "text": [
            "Looking in indexes: https://pypi.org/simple, https://us-python.pkg.dev/colab-wheels/public/simple/\n",
            "Requirement already satisfied: torchmetrics in /usr/local/lib/python3.9/dist-packages (0.11.4)\n",
            "Requirement already satisfied: torch>=1.8.1 in /usr/local/lib/python3.9/dist-packages (from torchmetrics) (1.13.1+cu116)\n",
            "Requirement already satisfied: packaging in /usr/local/lib/python3.9/dist-packages (from torchmetrics) (23.0)\n",
            "Requirement already satisfied: numpy>=1.17.2 in /usr/local/lib/python3.9/dist-packages (from torchmetrics) (1.22.4)\n",
            "Requirement already satisfied: typing-extensions in /usr/local/lib/python3.9/dist-packages (from torch>=1.8.1->torchmetrics) (4.5.0)\n"
          ]
        }
      ]
    },
    {
      "cell_type": "code",
      "source": [
        "from torchmetrics import Accuracy\n",
        "\n",
        "metrics_accuracy=Accuracy(task=\"multiclass\",num_classes=2).to(device)\n"
      ],
      "metadata": {
        "id": "F_WyMZljuQ02"
      },
      "execution_count": 57,
      "outputs": []
    },
    {
      "cell_type": "code",
      "source": [
        "###train and test loop\n",
        "\n",
        "for epoch in range(epochs):\n",
        "  model.train()\n",
        "\n",
        "  logits=model(x_train).squeeze()\n",
        "  y_pred=torch.round(torch.sigmoid(logits))\n",
        "\n",
        "  loss=loss_fn(logits,y_train)\n",
        "  train_acc=metrics_accuracy(y_pred, y_train)\n",
        "\n",
        "  optimizer.zero_grad()\n",
        "\n",
        "  loss.backward()\n",
        "  optimizer.step()\n",
        "  ######test\n",
        "  model.eval()\n",
        "  with torch.inference_mode():\n",
        "    test_logits=model(x_test).squeeze()\n",
        "    test_pred=torch.round(torch.sigmoid(test_logits))\n",
        "\n",
        "    loss_test=loss_fn(test_logits,y_test)\n",
        "    test_acc=metrics_accuracy(test_pred,y_test)\n",
        "\n",
        "\n",
        "  if epoch % 100 == 0 :\n",
        "    print(f\"epoch:{epoch} | loss: {loss:.5f} , acc: {train_acc:.2f} % | test loss:{loss_test:.5f} ,test acc: {test_acc:.2f} %\")"
      ],
      "metadata": {
        "colab": {
          "base_uri": "https://localhost:8080/"
        },
        "id": "pZYOyV7JuBSe",
        "outputId": "4e814f74-79a4-4cf7-cfd0-36bbcee98bd7"
      },
      "execution_count": 58,
      "outputs": [
        {
          "output_type": "stream",
          "name": "stdout",
          "text": [
            "epoch:0 | loss: 0.69887 , acc: 0.26 % | test loss:0.69115 ,test acc: 0.29 %\n",
            "epoch:100 | loss: 0.25137 , acc: 0.88 % | test loss:0.25795 ,test acc: 0.88 %\n",
            "epoch:200 | loss: 0.19234 , acc: 0.91 % | test loss:0.19240 ,test acc: 0.92 %\n",
            "epoch:300 | loss: 0.14282 , acc: 0.94 % | test loss:0.14338 ,test acc: 0.94 %\n",
            "epoch:400 | loss: 0.09147 , acc: 0.96 % | test loss:0.09168 ,test acc: 0.98 %\n",
            "epoch:500 | loss: 0.05292 , acc: 0.99 % | test loss:0.05241 ,test acc: 1.00 %\n",
            "epoch:600 | loss: 0.03121 , acc: 1.00 % | test loss:0.03049 ,test acc: 1.00 %\n",
            "epoch:700 | loss: 0.02016 , acc: 1.00 % | test loss:0.01947 ,test acc: 1.00 %\n",
            "epoch:800 | loss: 0.01417 , acc: 1.00 % | test loss:0.01359 ,test acc: 1.00 %\n",
            "epoch:900 | loss: 0.01062 , acc: 1.00 % | test loss:0.01014 ,test acc: 1.00 %\n"
          ]
        }
      ]
    },
    {
      "cell_type": "code",
      "source": [
        "import requests\n",
        "from pathlib import Path\n",
        "\n",
        "if Path(\"helper_functions.py\").is_file():\n",
        "  print(\"it already exists\")\n",
        "else:\n",
        "  print(\"downloading\")\n",
        "  request=requests.get(\"https://raw.githubusercontent.com/mrdbourke/pytorch-deep-learning/main/helper_functions.py\")\n",
        "  with open(\"helper_functions.py\",\"wb\") as f:\n",
        "    f.write(request.content)"
      ],
      "metadata": {
        "colab": {
          "base_uri": "https://localhost:8080/"
        },
        "id": "G0tOC-JDxCvy",
        "outputId": "b83904a8-c020-446d-c9bd-689ff53dc26d"
      },
      "execution_count": 59,
      "outputs": [
        {
          "output_type": "stream",
          "name": "stdout",
          "text": [
            "it already exists\n"
          ]
        }
      ]
    },
    {
      "cell_type": "code",
      "source": [
        "from helper_functions import  plot_predictions, plot_decision_boundary"
      ],
      "metadata": {
        "id": "zr-gMCoBxLwA"
      },
      "execution_count": 60,
      "outputs": []
    },
    {
      "cell_type": "code",
      "source": [
        "###make predictins\n",
        "model.eval()\n",
        "with torch.inference_mode():\n",
        "  logits_test=model(x_test.to(device))\n",
        "  test_pred=torch.round(torch.sigmoid(logits_test))\n",
        "  \n",
        "  plt.figure(figsize=(12,6))\n",
        "  plt.subplot(1,2,1)\n",
        "  plt.title('test')\n",
        "  plot_decision_boundary(model,x_test,test_pred)\n",
        "\n",
        "  \n",
        "plt.figure(figsize=(12,6))\n",
        "plt.subplot(1,2,2)\n",
        "plt.title('train')\n",
        "plot_decision_boundary(model,x_train,y_train)\n",
        "\n",
        "\n"
      ],
      "metadata": {
        "colab": {
          "base_uri": "https://localhost:8080/",
          "height": 763
        },
        "id": "L0E4_IjgxN5X",
        "outputId": "82eb16d7-bd7b-469c-b667-b430ae5da5b8"
      },
      "execution_count": 61,
      "outputs": [
        {
          "output_type": "display_data",
          "data": {
            "text/plain": [
              "<Figure size 864x432 with 1 Axes>"
            ],
            "image/png": "[encoded data removed]"
          },
          "metadata": {
            "needs_background": "light"
          }
        },
        {
          "output_type": "display_data",
          "data": {
            "text/plain": [
              "<Figure size 864x432 with 1 Axes>"
            ],
            "image/png": "[encoded data removed]"
          },
          "metadata": {
            "needs_background": "light"
          }
        }
      ]
    },
    {
      "cell_type": "code",
      "source": [],
      "metadata": {
        "id": "SwbtcXb1x02E"
      },
      "execution_count": 61,
      "outputs": []
    }
  ]
}