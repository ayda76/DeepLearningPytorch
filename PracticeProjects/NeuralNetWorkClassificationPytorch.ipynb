{
  "nbformat": 4,
  "nbformat_minor": 0,
  "metadata": {
    "colab": {
      "provenance": []
    },
    "kernelspec": {
      "name": "python3",
      "display_name": "Python 3"
    },
    "language_info": {
      "name": "python"
    },
    "accelerator": "GPU",
    "gpuClass": "standard"
  },
  "cells": [
    {
      "cell_type": "code",
      "execution_count": null,
      "metadata": {
        "id": "MHTxVuf8Hhz7"
      },
      "outputs": [],
      "source": [
        "#imagenet datasets for images\n",
        "from sklearn.datasets import make_circles"
      ]
    },
    {
      "cell_type": "code",
      "source": [
        "n_samples=1000\n",
        "\n",
        "x,y=make_circles(n_samples,\n",
        "                 noise=0.03,\n",
        "                 random_state=42)\n",
        "\n",
        "#x is features and y is labels"
      ],
      "metadata": {
        "id": "sh1fjnpZQJKU"
      },
      "execution_count": null,
      "outputs": []
    },
    {
      "cell_type": "code",
      "source": [
        "len(x),len(y)"
      ],
      "metadata": {
        "colab": {
          "base_uri": "https://localhost:8080/"
        },
        "id": "YGlt4Q46UTLE",
        "outputId": "489be46b-b7a8-4f44-a36b-ccb92a515479"
      },
      "execution_count": null,
      "outputs": [
        {
          "output_type": "execute_result",
          "data": {
            "text/plain": [
              "(1000, 1000)"
            ]
          },
          "metadata": {},
          "execution_count": 134
        }
      ]
    },
    {
      "cell_type": "code",
      "source": [
        "#make data frame\n",
        "import pandas as pd\n",
        "circles=pd.DataFrame({\"x1\": x[:,0],\n",
        "                      \"x2\":x[:,1],\n",
        "                      \"label\":y})"
      ],
      "metadata": {
        "id": "9j-nJV5vUWmX"
      },
      "execution_count": null,
      "outputs": []
    },
    {
      "cell_type": "code",
      "source": [
        "circles.head()"
      ],
      "metadata": {
        "colab": {
          "base_uri": "https://localhost:8080/",
          "height": 206
        },
        "id": "X1YpdnQlVAAC",
        "outputId": "8b377675-c250-4125-a0f8-0577227a1c45"
      },
      "execution_count": null,
      "outputs": [
        {
          "output_type": "execute_result",
          "data": {
            "text/plain": [
              "         x1        x2  label\n",
              "0  0.754246  0.231481      1\n",
              "1 -0.756159  0.153259      1\n",
              "2 -0.815392  0.173282      1\n",
              "3 -0.393731  0.692883      1\n",
              "4  0.442208 -0.896723      0"
            ],
            "text/html": [
              "\n",
              "  <div id=\"df-e8e0e5bf-7098-4bdd-b7c5-c738ebdcec7d\">\n",
              "    <div class=\"colab-df-container\">\n",
              "      <div>\n",
              "<style scoped>\n",
              "    .dataframe tbody tr th:only-of-type {\n",
              "        vertical-align: middle;\n",
              "    }\n",
              "\n",
              "    .dataframe tbody tr th {\n",
              "        vertical-align: top;\n",
              "    }\n",
              "\n",
              "    .dataframe thead th {\n",
              "        text-align: right;\n",
              "    }\n",
              "</style>\n",
              "<table border=\"1\" class=\"dataframe\">\n",
              "  <thead>\n",
              "    <tr style=\"text-align: right;\">\n",
              "      <th></th>\n",
              "      <th>x1</th>\n",
              "      <th>x2</th>\n",
              "      <th>label</th>\n",
              "    </tr>\n",
              "  </thead>\n",
              "  <tbody>\n",
              "    <tr>\n",
              "      <th>0</th>\n",
              "      <td>0.754246</td>\n",
              "      <td>0.231481</td>\n",
              "      <td>1</td>\n",
              "    </tr>\n",
              "    <tr>\n",
              "      <th>1</th>\n",
              "      <td>-0.756159</td>\n",
              "      <td>0.153259</td>\n",
              "      <td>1</td>\n",
              "    </tr>\n",
              "    <tr>\n",
              "      <th>2</th>\n",
              "      <td>-0.815392</td>\n",
              "      <td>0.173282</td>\n",
              "      <td>1</td>\n",
              "    </tr>\n",
              "    <tr>\n",
              "      <th>3</th>\n",
              "      <td>-0.393731</td>\n",
              "      <td>0.692883</td>\n",
              "      <td>1</td>\n",
              "    </tr>\n",
              "    <tr>\n",
              "      <th>4</th>\n",
              "      <td>0.442208</td>\n",
              "      <td>-0.896723</td>\n",
              "      <td>0</td>\n",
              "    </tr>\n",
              "  </tbody>\n",
              "</table>\n",
              "</div>\n",
              "      <button class=\"colab-df-convert\" onclick=\"convertToInteractive('df-e8e0e5bf-7098-4bdd-b7c5-c738ebdcec7d')\"\n",
              "              title=\"Convert this dataframe to an interactive table.\"\n",
              "              style=\"display:none;\">\n",
              "        \n",
              "  <svg xmlns=\"http://www.w3.org/2000/svg\" height=\"24px\"viewBox=\"0 0 24 24\"\n",
              "       width=\"24px\">\n",
              "    <path d=\"M0 0h24v24H0V0z\" fill=\"none\"/>\n",
              "    <path d=\"M18.56 5.44l.94 2.06.94-2.06 2.06-.94-2.06-.94-.94-2.06-.94 2.06-2.06.94zm-11 1L8.5 8.5l.94-2.06 2.06-.94-2.06-.94L8.5 2.5l-.94 2.06-2.06.94zm10 10l.94 2.06.94-2.06 2.06-.94-2.06-.94-.94-2.06-.94 2.06-2.06.94z\"/><path d=\"M17.41 7.96l-1.37-1.37c-.4-.4-.92-.59-1.43-.59-.52 0-1.04.2-1.43.59L10.3 9.45l-7.72 7.72c-.78.78-.78 2.05 0 2.83L4 21.41c.39.39.9.59 1.41.59.51 0 1.02-.2 1.41-.59l7.78-7.78 2.81-2.81c.8-.78.8-2.07 0-2.86zM5.41 20L4 18.59l7.72-7.72 1.47 1.35L5.41 20z\"/>\n",
              "  </svg>\n",
              "      </button>\n",
              "      \n",
              "  <style>\n",
              "    .colab-df-container {\n",
              "      display:flex;\n",
              "      flex-wrap:wrap;\n",
              "      gap: 12px;\n",
              "    }\n",
              "\n",
              "    .colab-df-convert {\n",
              "      background-color: #E8F0FE;\n",
              "      border: none;\n",
              "      border-radius: 50%;\n",
              "      cursor: pointer;\n",
              "      display: none;\n",
              "      fill: #1967D2;\n",
              "      height: 32px;\n",
              "      padding: 0 0 0 0;\n",
              "      width: 32px;\n",
              "    }\n",
              "\n",
              "    .colab-df-convert:hover {\n",
              "      background-color: #E2EBFA;\n",
              "      box-shadow: 0px 1px 2px rgba(60, 64, 67, 0.3), 0px 1px 3px 1px rgba(60, 64, 67, 0.15);\n",
              "      fill: #174EA6;\n",
              "    }\n",
              "\n",
              "    [theme=dark] .colab-df-convert {\n",
              "      background-color: #3B4455;\n",
              "      fill: #D2E3FC;\n",
              "    }\n",
              "\n",
              "    [theme=dark] .colab-df-convert:hover {\n",
              "      background-color: #434B5C;\n",
              "      box-shadow: 0px 1px 3px 1px rgba(0, 0, 0, 0.15);\n",
              "      filter: drop-shadow(0px 1px 2px rgba(0, 0, 0, 0.3));\n",
              "      fill: #FFFFFF;\n",
              "    }\n",
              "  </style>\n",
              "\n",
              "      <script>\n",
              "        const buttonEl =\n",
              "          document.querySelector('#df-e8e0e5bf-7098-4bdd-b7c5-c738ebdcec7d button.colab-df-convert');\n",
              "        buttonEl.style.display =\n",
              "          google.colab.kernel.accessAllowed ? 'block' : 'none';\n",
              "\n",
              "        async function convertToInteractive(key) {\n",
              "          const element = document.querySelector('#df-e8e0e5bf-7098-4bdd-b7c5-c738ebdcec7d');\n",
              "          const dataTable =\n",
              "            await google.colab.kernel.invokeFunction('convertToInteractive',\n",
              "                                                     [key], {});\n",
              "          if (!dataTable) return;\n",
              "\n",
              "          const docLinkHtml = 'Like what you see? Visit the ' +\n",
              "            '<a target=\"_blank\" href=https://colab.research.google.com/notebooks/data_table.ipynb>data table notebook</a>'\n",
              "            + ' to learn more about interactive tables.';\n",
              "          element.innerHTML = '';\n",
              "          dataTable['output_type'] = 'display_data';\n",
              "          await google.colab.output.renderOutput(dataTable, element);\n",
              "          const docLink = document.createElement('div');\n",
              "          docLink.innerHTML = docLinkHtml;\n",
              "          element.appendChild(docLink);\n",
              "        }\n",
              "      </script>\n",
              "    </div>\n",
              "  </div>\n",
              "  "
            ]
          },
          "metadata": {},
          "execution_count": 136
        }
      ]
    },
    {
      "cell_type": "code",
      "source": [],
      "metadata": {
        "id": "nJ6V8ygHXSh4"
      },
      "execution_count": null,
      "outputs": []
    },
    {
      "cell_type": "code",
      "source": [
        "import matplotlib.pyplot as plt\n",
        "\n",
        "plt.scatter(x=x[:,0],\n",
        "            y=x[:,1],\n",
        "            c=y,\n",
        "            cmap=plt.cm.RdYlBu)"
      ],
      "metadata": {
        "colab": {
          "base_uri": "https://localhost:8080/",
          "height": 282
        },
        "id": "2kAa_KBkVHKv",
        "outputId": "0b5f3db3-3225-419e-9650-a9c535bae182"
      },
      "execution_count": null,
      "outputs": [
        {
          "output_type": "execute_result",
          "data": {
            "text/plain": [
              "<matplotlib.collections.PathCollection at 0x7fb5282041c0>"
            ]
          },
          "metadata": {},
          "execution_count": 137
        },
        {
          "output_type": "display_data",
          "data": {
            "text/plain": [
              "<Figure size 432x288 with 1 Axes>"
            ],
            "image/png": "[encoded data removed]"
          },
          "metadata": {
            "needs_background": "light"
          }
        }
      ]
    },
    {
      "cell_type": "code",
      "source": [
        "x.shape , y.shape"
      ],
      "metadata": {
        "colab": {
          "base_uri": "https://localhost:8080/"
        },
        "id": "ODioFxTwVlts",
        "outputId": "45618d14-b5e7-42f8-b83b-6467c2282893"
      },
      "execution_count": null,
      "outputs": [
        {
          "output_type": "execute_result",
          "data": {
            "text/plain": [
              "((1000, 2), (1000,))"
            ]
          },
          "metadata": {},
          "execution_count": 138
        }
      ]
    },
    {
      "cell_type": "code",
      "source": [
        "x"
      ],
      "metadata": {
        "colab": {
          "base_uri": "https://localhost:8080/"
        },
        "id": "XlV4Ffs_XW2K",
        "outputId": "4100f8ba-5591-40dc-cd51-15744f10e621"
      },
      "execution_count": null,
      "outputs": [
        {
          "output_type": "execute_result",
          "data": {
            "text/plain": [
              "array([[ 0.75424625,  0.23148074],\n",
              "       [-0.75615888,  0.15325888],\n",
              "       [-0.81539193,  0.17328203],\n",
              "       ...,\n",
              "       [-0.13690036, -0.81001183],\n",
              "       [ 0.67036156, -0.76750154],\n",
              "       [ 0.28105665,  0.96382443]])"
            ]
          },
          "metadata": {},
          "execution_count": 139
        }
      ]
    },
    {
      "cell_type": "code",
      "source": [
        "#turn data into tensors\n",
        "import torch\n",
        "torch.__version__"
      ],
      "metadata": {
        "colab": {
          "base_uri": "https://localhost:8080/",
          "height": 35
        },
        "id": "3j3yvafeXZgu",
        "outputId": "afaf199b-0828-4f9d-8c38-623479601b9c"
      },
      "execution_count": null,
      "outputs": [
        {
          "output_type": "execute_result",
          "data": {
            "text/plain": [
              "'1.13.1+cu116'"
            ],
            "application/vnd.google.colaboratory.intrinsic+json": {
              "type": "string"
            }
          },
          "metadata": {},
          "execution_count": 140
        }
      ]
    },
    {
      "cell_type": "code",
      "source": [
        "type(x)"
      ],
      "metadata": {
        "colab": {
          "base_uri": "https://localhost:8080/"
        },
        "id": "VCo13K8IX3mZ",
        "outputId": "e4f40709-a2e6-431e-b950-1409850a493b"
      },
      "execution_count": null,
      "outputs": [
        {
          "output_type": "execute_result",
          "data": {
            "text/plain": [
              "numpy.ndarray"
            ]
          },
          "metadata": {},
          "execution_count": 141
        }
      ]
    },
    {
      "cell_type": "code",
      "source": [
        "X=torch.from_numpy(x).type(torch.float)\n",
        "Y=torch.from_numpy(y).type(torch.float)"
      ],
      "metadata": {
        "id": "k6SvMD_rYADm"
      },
      "execution_count": null,
      "outputs": []
    },
    {
      "cell_type": "code",
      "source": [
        "#split\n",
        "from sklearn.model_selection import train_test_split\n",
        "\n",
        "x_train, x_test, y_train,y_test= train_test_split(X,Y, test_size=0.2, random_state=42)"
      ],
      "metadata": {
        "id": "rPhSccn4YLHr"
      },
      "execution_count": null,
      "outputs": []
    },
    {
      "cell_type": "code",
      "source": [
        "#build model\n",
        "import torch\n",
        "from torch import nn\n",
        "\n",
        "#device\n",
        "device= 'cuda' if torch.cuda.is_available() else 'cpu'\n",
        "\n",
        "device\n"
      ],
      "metadata": {
        "colab": {
          "base_uri": "https://localhost:8080/",
          "height": 35
        },
        "id": "GqYFPZgzZb9p",
        "outputId": "b66c006a-c7b7-461d-ad87-eb0f5766e7cd"
      },
      "execution_count": null,
      "outputs": [
        {
          "output_type": "execute_result",
          "data": {
            "text/plain": [
              "'cuda'"
            ],
            "application/vnd.google.colaboratory.intrinsic+json": {
              "type": "string"
            }
          },
          "metadata": {},
          "execution_count": 144
        }
      ]
    },
    {
      "cell_type": "code",
      "source": [
        "#construct model\n",
        "class  CircleModel_0(nn.Module):\n",
        "  def __init__(self):\n",
        "    super().__init__()\n",
        "\n",
        "    self.layer_1=nn.Linear(in_features=2, out_features=5)\n",
        "    self.layer_2=nn.Linear(in_features=5,out_features=1)\n",
        "\n",
        "  \n",
        "  def forward(self,x):\n",
        "    return self.layer_2(self.layer_1(x))\n",
        "\n",
        "  \n",
        "#send the model instance to the device\n",
        "model_0=CircleModel_0().to(device)\n",
        "model_0\n"
      ],
      "metadata": {
        "colab": {
          "base_uri": "https://localhost:8080/"
        },
        "id": "3-6PIhZgafQD",
        "outputId": "eb57848b-951b-40de-bc2f-15b0b8f18551"
      },
      "execution_count": null,
      "outputs": [
        {
          "output_type": "execute_result",
          "data": {
            "text/plain": [
              "CircleModel_0(\n",
              "  (layer_1): Linear(in_features=2, out_features=5, bias=True)\n",
              "  (layer_2): Linear(in_features=5, out_features=1, bias=True)\n",
              ")"
            ]
          },
          "metadata": {},
          "execution_count": 145
        }
      ]
    },
    {
      "cell_type": "code",
      "source": [
        "next(model_0.parameters()).device"
      ],
      "metadata": {
        "colab": {
          "base_uri": "https://localhost:8080/"
        },
        "id": "FWNM8K3rc889",
        "outputId": "39606851-3ae4-45ae-8e39-b2706cf4d647"
      },
      "execution_count": null,
      "outputs": [
        {
          "output_type": "execute_result",
          "data": {
            "text/plain": [
              "device(type='cuda', index=0)"
            ]
          },
          "metadata": {},
          "execution_count": 146
        }
      ]
    },
    {
      "cell_type": "code",
      "source": [
        "#replicate the model\n",
        "#build it with nn.Sequential()\n",
        "model_0=nn.Sequential(\n",
        "    nn.Linear(in_features=2, out_features=5),\n",
        "    nn.Linear(in_features=5,out_features=1)\n",
        ").to(device)\n",
        "\n",
        "model_0\n",
        "\n",
        "\n"
      ],
      "metadata": {
        "colab": {
          "base_uri": "https://localhost:8080/"
        },
        "id": "R3vfQX61fLcJ",
        "outputId": "2a6f5da3-3fa3-4b7f-83e4-449be1cf38bb"
      },
      "execution_count": null,
      "outputs": [
        {
          "output_type": "execute_result",
          "data": {
            "text/plain": [
              "Sequential(\n",
              "  (0): Linear(in_features=2, out_features=5, bias=True)\n",
              "  (1): Linear(in_features=5, out_features=1, bias=True)\n",
              ")"
            ]
          },
          "metadata": {},
          "execution_count": 147
        }
      ]
    },
    {
      "cell_type": "code",
      "source": [
        "model_0.state_dict()\n",
        "#10 weights are seen 2*5\n"
      ],
      "metadata": {
        "colab": {
          "base_uri": "https://localhost:8080/"
        },
        "id": "S33osKCOfLmA",
        "outputId": "b2ce3f94-ffc5-4a2a-e5de-ba60a6f4393e"
      },
      "execution_count": null,
      "outputs": [
        {
          "output_type": "execute_result",
          "data": {
            "text/plain": [
              "OrderedDict([('0.weight', tensor([[-0.0829, -0.2872],\n",
              "                      [ 0.4691, -0.5582],\n",
              "                      [-0.3260, -0.1997],\n",
              "                      [-0.4252,  0.0667],\n",
              "                      [-0.6984,  0.6386]], device='cuda:0')),\n",
              "             ('0.bias',\n",
              "              tensor([-0.6007,  0.5459,  0.1177, -0.2296,  0.4370], device='cuda:0')),\n",
              "             ('1.weight',\n",
              "              tensor([[ 0.0697,  0.3613,  0.0489, -0.1410,  0.1202]], device='cuda:0')),\n",
              "             ('1.bias', tensor([-0.1213], device='cuda:0'))])"
            ]
          },
          "metadata": {},
          "execution_count": 148
        }
      ]
    },
    {
      "cell_type": "code",
      "source": [
        "with torch.inference_mode():\n",
        "  untrained_pred=model_0(x_test.to(device))\n",
        "\n",
        "\n",
        "x_test[:10], y_test[:10]"
      ],
      "metadata": {
        "colab": {
          "base_uri": "https://localhost:8080/"
        },
        "id": "qcrcS7_qg1Tn",
        "outputId": "b5e830af-02bf-4f1e-ca77-16c48b044161"
      },
      "execution_count": null,
      "outputs": [
        {
          "output_type": "execute_result",
          "data": {
            "text/plain": [
              "(tensor([[-0.3752,  0.6827],\n",
              "         [ 0.0154,  0.9600],\n",
              "         [-0.7028, -0.3147],\n",
              "         [-0.2853,  0.9664],\n",
              "         [ 0.4024, -0.7438],\n",
              "         [ 0.6323, -0.5711],\n",
              "         [ 0.8561,  0.5499],\n",
              "         [ 1.0034,  0.1903],\n",
              "         [-0.7489, -0.2951],\n",
              "         [ 0.0538,  0.9739]]),\n",
              " tensor([1., 0., 1., 0., 1., 1., 0., 0., 1., 0.]))"
            ]
          },
          "metadata": {},
          "execution_count": 149
        }
      ]
    },
    {
      "cell_type": "code",
      "source": [
        "torch.round(untrained_pred[:10])"
      ],
      "metadata": {
        "colab": {
          "base_uri": "https://localhost:8080/"
        },
        "id": "7_NfrMABiYaI",
        "outputId": "040307d9-741d-4007-d57a-478e145ed872"
      },
      "execution_count": null,
      "outputs": [
        {
          "output_type": "execute_result",
          "data": {
            "text/plain": [
              "tensor([[-0.],\n",
              "        [-0.],\n",
              "        [0.],\n",
              "        [-0.],\n",
              "        [0.],\n",
              "        [0.],\n",
              "        [0.],\n",
              "        [0.],\n",
              "        [0.],\n",
              "        [-0.]], device='cuda:0')"
            ]
          },
          "metadata": {},
          "execution_count": 150
        }
      ]
    },
    {
      "cell_type": "code",
      "source": [
        "# define loss and optimizer\n",
        "# raw outputs of the model is logit \n",
        "# then we pass them to an activation function like sigmoid \n",
        "# sigmoid for binary crossentropy \n",
        "# softmax for multiclass crossentropy classification \n",
        "loss_fn=nn.BCEWithLogitsLoss() #binary cross entropy\n",
        "\n",
        "optimizer=torch.optim.SGD(params=model_0.parameters(),lr=0.1)\n",
        "#it optimizes all the parameters of model to diminish the loss"
      ],
      "metadata": {
        "id": "90m3e09fdQXG"
      },
      "execution_count": null,
      "outputs": []
    },
    {
      "cell_type": "code",
      "source": [
        "def accuracy_fn(y_true,y_pred):\n",
        "  correct =torch.eq(y_true,y_pred).sum().item()\n",
        "  acc =(correct/len(y_pred))\n",
        "  return acc\n",
        "   "
      ],
      "metadata": {
        "id": "ch_u0gELltPP"
      },
      "execution_count": null,
      "outputs": []
    },
    {
      "cell_type": "code",
      "source": [
        "# view logits\n",
        "model_0.eval()\n",
        "with torch.inference_mode():\n",
        "\n",
        "  y_logits= model_0(x_test.to(device))[:5]\n",
        "  \n",
        "y_logits"
      ],
      "metadata": {
        "colab": {
          "base_uri": "https://localhost:8080/"
        },
        "id": "Tp7J6TmhF5UI",
        "outputId": "21642f23-7bff-42b3-a7d1-c4307b965b8f"
      },
      "execution_count": null,
      "outputs": [
        {
          "output_type": "execute_result",
          "data": {
            "text/plain": [
              "tensor([[-0.0338],\n",
              "        [-0.0309],\n",
              "        [ 0.0894],\n",
              "        [-0.0692],\n",
              "        [ 0.2967]], device='cuda:0')"
            ]
          },
          "metadata": {},
          "execution_count": 153
        }
      ]
    },
    {
      "cell_type": "code",
      "source": [
        "y_pred_probs=torch.sigmoid(y_logits)\n",
        "y_pred_probs"
      ],
      "metadata": {
        "colab": {
          "base_uri": "https://localhost:8080/"
        },
        "id": "iYHKQfCPG9Lj",
        "outputId": "0d8fd127-331e-4a8c-f795-0b766682b973"
      },
      "execution_count": null,
      "outputs": [
        {
          "output_type": "execute_result",
          "data": {
            "text/plain": [
              "tensor([[0.4916],\n",
              "        [0.4923],\n",
              "        [0.5223],\n",
              "        [0.4827],\n",
              "        [0.5736]], device='cuda:0')"
            ]
          },
          "metadata": {},
          "execution_count": 154
        }
      ]
    },
    {
      "cell_type": "code",
      "source": [
        "torch.round(y_pred_probs)"
      ],
      "metadata": {
        "colab": {
          "base_uri": "https://localhost:8080/"
        },
        "id": "arnGJFosHPbY",
        "outputId": "be7c5b44-972f-4635-87c2-80d9f6d952a2"
      },
      "execution_count": null,
      "outputs": [
        {
          "output_type": "execute_result",
          "data": {
            "text/plain": [
              "tensor([[0.],\n",
              "        [0.],\n",
              "        [1.],\n",
              "        [0.],\n",
              "        [1.]], device='cuda:0')"
            ]
          },
          "metadata": {},
          "execution_count": 155
        }
      ]
    },
    {
      "cell_type": "code",
      "source": [
        "y_test[:5]"
      ],
      "metadata": {
        "colab": {
          "base_uri": "https://localhost:8080/"
        },
        "id": "6At8etD-HX-E",
        "outputId": "c82a3329-b171-4d10-fd23-9862f34d6cb1"
      },
      "execution_count": null,
      "outputs": [
        {
          "output_type": "execute_result",
          "data": {
            "text/plain": [
              "tensor([1., 0., 1., 0., 1.])"
            ]
          },
          "metadata": {},
          "execution_count": 156
        }
      ]
    },
    {
      "cell_type": "code",
      "source": [
        "y_preds=torch.round(y_pred_probs)\n",
        "\n",
        "y_pred_labels= torch.round(torch.sigmoid(model_0(x_test.to(device))[:5]))\n",
        "\n",
        "print(torch.eq(y_preds.squeeze(),y_pred_labels.squeeze()))\n",
        "y_preds.squeeze()"
      ],
      "metadata": {
        "colab": {
          "base_uri": "https://localhost:8080/"
        },
        "id": "XYvULuKjHouY",
        "outputId": "9b161e51-806b-469a-92ce-9ed268fb1c37"
      },
      "execution_count": null,
      "outputs": [
        {
          "output_type": "stream",
          "name": "stdout",
          "text": [
            "tensor([True, True, True, True, True], device='cuda:0')\n"
          ]
        },
        {
          "output_type": "execute_result",
          "data": {
            "text/plain": [
              "tensor([0., 0., 1., 0., 1.], device='cuda:0')"
            ]
          },
          "metadata": {},
          "execution_count": 157
        }
      ]
    },
    {
      "cell_type": "code",
      "source": [
        "#training loop\n",
        "torch.manual_seed(42)\n",
        "torch.cuda.manual_seed(42)\n",
        "\n",
        "epoches=100\n",
        "\n",
        "x_train, y_train=x_train.to(device), y_train.to(device)\n",
        "x_test, y_test= x_test.to(device),y_test.to(device)\n",
        "\n",
        "for epoch in range(epoches):\n",
        "  #train\n",
        "  model_0.train()\n",
        "\n",
        "  #forward pass\n",
        "  y_logits=model_0(x_train).squeeze()\n",
        "  y_pred=torch.round(torch.sigmoid(y_logits))\n",
        "\n",
        "\n",
        "  loss=loss_fn(y_logits,y_train)\n",
        "\n",
        "  acc=accuracy_fn(y_true=y_train, y_pred=y_pred)\n",
        "\n",
        "  \n",
        "  optimizer.zero_grad()\n",
        "\n",
        "   #back propagation\n",
        "  loss.backward()\n",
        "\n",
        "  #optimizer step-> update the parameters to reduce the gradient descent\n",
        "  optimizer.step()\n",
        "\n",
        "\n",
        "  model_0.eval()\n",
        "  with torch.inference_mode():\n",
        "\n",
        "    test_logits=model_0(x_test.squeeze())\n",
        "    test_pred=torch.round(torch.sigmoid(test_logits))\n",
        "\n",
        "    test_loss=loss_fn(test_logits, test_pred)\n",
        "    test_acc=accuracy_fn(y_true=y_test,y_pred=test_pred)\n",
        "\n",
        "\n",
        "  if epoch % 10 ==0:\n",
        "    print(f\"epoch:{epoch} | loss: {loss:.5f} , acc: {acc:.2f} % | test loss:{test_loss:.5f} ,test acc: {test_acc:.2f} %\")\n",
        "\n",
        "\n",
        "\n",
        "\n",
        "\n",
        "  "
      ],
      "metadata": {
        "id": "Sipb3ECInZTX",
        "colab": {
          "base_uri": "https://localhost:8080/"
        },
        "outputId": "05aa072e-efb6-4955-d7b9-5f3d1b0ceb51"
      },
      "execution_count": null,
      "outputs": [
        {
          "output_type": "stream",
          "name": "stdout",
          "text": [
            "epoch:0 | loss: 0.69796 , acc: 0.52 % | test loss:0.63057 ,test acc: 100.00 %\n",
            "epoch:10 | loss: 0.69590 , acc: 0.51 % | test loss:0.64599 ,test acc: 100.00 %\n",
            "epoch:20 | loss: 0.69490 , acc: 0.52 % | test loss:0.65559 ,test acc: 100.00 %\n",
            "epoch:30 | loss: 0.69435 , acc: 0.51 % | test loss:0.66228 ,test acc: 100.00 %\n",
            "epoch:40 | loss: 0.69401 , acc: 0.51 % | test loss:0.66769 ,test acc: 100.00 %\n",
            "epoch:50 | loss: 0.69378 , acc: 0.50 % | test loss:0.67216 ,test acc: 100.00 %\n",
            "epoch:60 | loss: 0.69362 , acc: 0.50 % | test loss:0.67592 ,test acc: 100.00 %\n",
            "epoch:70 | loss: 0.69351 , acc: 0.50 % | test loss:0.67910 ,test acc: 100.00 %\n",
            "epoch:80 | loss: 0.69342 , acc: 0.50 % | test loss:0.68181 ,test acc: 100.00 %\n",
            "epoch:90 | loss: 0.69336 , acc: 0.50 % | test loss:0.68411 ,test acc: 100.00 %\n"
          ]
        }
      ]
    },
    {
      "cell_type": "code",
      "source": [
        "import requests\n",
        "from pathlib import Path\n",
        "\n",
        "if Path(\"helper_functions.py\").is_file():\n",
        "  print(\"it already exists\")\n",
        "else:\n",
        "  print(\"downloading\")\n",
        "  request=requests.get(\"https://raw.githubusercontent.com/mrdbourke/pytorch-deep-learning/main/helper_functions.py\")\n",
        "  with open(\"helper_functions.py\",\"wb\") as f:\n",
        "    f.write(request.content)\n",
        "\n"
      ],
      "metadata": {
        "colab": {
          "base_uri": "https://localhost:8080/"
        },
        "id": "If6OC1KCHnEP",
        "outputId": "11b9f58e-11ea-42db-fbfe-243634c7e041"
      },
      "execution_count": null,
      "outputs": [
        {
          "output_type": "stream",
          "name": "stdout",
          "text": [
            "it already exists\n"
          ]
        }
      ]
    },
    {
      "cell_type": "code",
      "source": [
        "from helper_functions import  plot_predictions, plot_decision_boundary"
      ],
      "metadata": {
        "id": "8-Z_nroVZbAi"
      },
      "execution_count": null,
      "outputs": []
    },
    {
      "cell_type": "code",
      "source": [
        "# improving models\n",
        "\n",
        "# add more layers\n",
        "# add hidden units\n",
        "# change the learning rate\n",
        "# change loss function\n",
        "# change optimizer \n"
      ],
      "metadata": {
        "id": "9Zf1ulimRpH5"
      },
      "execution_count": null,
      "outputs": []
    },
    {
      "cell_type": "code",
      "source": [
        "class CircleModel_1(nn.Module):\n",
        "  def __init__(self):\n",
        "    super().__init__()\n",
        "    self.layer_1= nn.Linear(in_features=2, out_features=10)\n",
        "    self.layer_2= nn.Linear(in_features=10, out_features=10)\n",
        "    self.layer_3= nn.Linear(in_features=10, out_features=1)\n",
        "\n",
        "  def forward(self, x):\n",
        "    #z=self.layer_1(x)\n",
        "    #z=self.layer_2(z)\n",
        "    #z=self.layer_3(z)\n",
        "    #return z\n",
        "    return  self.layer_3(self.layer_2(self.layer_1(x)))\n",
        "\n",
        "model_1= CircleModel_1().to(device)\n",
        "model_1"
      ],
      "metadata": {
        "colab": {
          "base_uri": "https://localhost:8080/"
        },
        "id": "RiE_MUN9Z-4a",
        "outputId": "f6dfe217-7dbc-4948-f390-9e51685ab74e"
      },
      "execution_count": null,
      "outputs": [
        {
          "output_type": "execute_result",
          "data": {
            "text/plain": [
              "CircleModel_1(\n",
              "  (layer_1): Linear(in_features=2, out_features=10, bias=True)\n",
              "  (layer_2): Linear(in_features=10, out_features=10, bias=True)\n",
              "  (layer_3): Linear(in_features=10, out_features=1, bias=True)\n",
              ")"
            ]
          },
          "metadata": {},
          "execution_count": 162
        }
      ]
    },
    {
      "cell_type": "code",
      "source": [
        "# loss function\n",
        "loss_fn=nn.BCEWithLogitsLoss()\n",
        "# optimizer\n",
        "optimizer= torch.optim.SGD(params=model_1.parameters(), lr=0.1)\n"
      ],
      "metadata": {
        "id": "Lujh5hC-bZJW"
      },
      "execution_count": null,
      "outputs": []
    },
    {
      "cell_type": "code",
      "source": [
        "#training \n",
        "torch.manual_seed(42)\n",
        "torch.cuda.manual_seed(42)\n",
        "\n",
        "epoches=1000\n",
        "\n",
        "x_train, y_train=x_train.to(device), y_train.to(device)\n",
        "x_test, y_test= x_test.to(device),y_test.to(device)\n",
        "\n",
        "\n",
        "for epoch in range(epoches):\n",
        "\n",
        "  model_1.train()\n",
        "\n",
        "  y_logits=model_1(x_train).squeeze()\n",
        "  y_pred=torch.round(torch.sigmoid(y_logits))\n",
        "\n",
        "  loss=loss_fn(y_logits,y_train)\n",
        "  acc= accuracy_fn(y_true=y_train,y_pred=y_pred)\n",
        "\n",
        "  optimizer.zero_grad()\n",
        "\n",
        "  loss.backward()\n",
        "\n",
        "  optimizer.step()\n",
        "\n",
        "  #test\n",
        "  model_1.eval()\n",
        "  with torch.inference_mode():\n",
        "    test_logits=model_1(x_test).squeeze()\n",
        "    test_pred=torch.round(torch.sigmoid(test_logits))\n",
        "\n",
        "    test_loss=loss_fn(test_logits,y_test)\n",
        "    test_acc= accuracy_fn(y_true=y_test,y_pred=test_pred)\n",
        "\n",
        "#print\n",
        "  if epoch % 10 == 0 :\n",
        "    print(f\"epoch:{epoch} | loss: {loss:.5f} , acc: {acc:.2f} % | test loss:{test_loss:.5f} ,test acc: {test_acc:.2f} %\")\n",
        "\n",
        "\n",
        "\n",
        "  \n",
        "\n",
        "\n",
        "\n"
      ],
      "metadata": {
        "colab": {
          "base_uri": "https://localhost:8080/"
        },
        "id": "4t1xd_25cDQT",
        "outputId": "d4a7c6cf-d0d0-4985-c5ef-ebc8f0e0cde4"
      },
      "execution_count": null,
      "outputs": [
        {
          "output_type": "stream",
          "name": "stdout",
          "text": [
            "epoch:0 | loss: 0.69396 , acc: 0.51 % | test loss:0.69261 ,test acc: 0.51 %\n",
            "epoch:10 | loss: 0.69369 , acc: 0.50 % | test loss:0.69270 ,test acc: 0.50 %\n",
            "epoch:20 | loss: 0.69351 , acc: 0.50 % | test loss:0.69283 ,test acc: 0.49 %\n",
            "epoch:30 | loss: 0.69339 , acc: 0.51 % | test loss:0.69297 ,test acc: 0.48 %\n",
            "epoch:40 | loss: 0.69329 , acc: 0.50 % | test loss:0.69310 ,test acc: 0.49 %\n",
            "epoch:50 | loss: 0.69322 , acc: 0.50 % | test loss:0.69324 ,test acc: 0.50 %\n",
            "epoch:60 | loss: 0.69317 , acc: 0.49 % | test loss:0.69336 ,test acc: 0.52 %\n",
            "epoch:70 | loss: 0.69312 , acc: 0.49 % | test loss:0.69348 ,test acc: 0.51 %\n",
            "epoch:80 | loss: 0.69309 , acc: 0.50 % | test loss:0.69359 ,test acc: 0.50 %\n",
            "epoch:90 | loss: 0.69307 , acc: 0.51 % | test loss:0.69370 ,test acc: 0.48 %\n",
            "epoch:100 | loss: 0.69305 , acc: 0.50 % | test loss:0.69379 ,test acc: 0.48 %\n",
            "epoch:110 | loss: 0.69303 , acc: 0.51 % | test loss:0.69388 ,test acc: 0.47 %\n",
            "epoch:120 | loss: 0.69302 , acc: 0.51 % | test loss:0.69396 ,test acc: 0.47 %\n",
            "epoch:130 | loss: 0.69301 , acc: 0.51 % | test loss:0.69403 ,test acc: 0.46 %\n",
            "epoch:140 | loss: 0.69301 , acc: 0.51 % | test loss:0.69409 ,test acc: 0.48 %\n",
            "epoch:150 | loss: 0.69300 , acc: 0.51 % | test loss:0.69415 ,test acc: 0.47 %\n",
            "epoch:160 | loss: 0.69300 , acc: 0.51 % | test loss:0.69421 ,test acc: 0.47 %\n",
            "epoch:170 | loss: 0.69299 , acc: 0.52 % | test loss:0.69425 ,test acc: 0.47 %\n",
            "epoch:180 | loss: 0.69299 , acc: 0.51 % | test loss:0.69430 ,test acc: 0.47 %\n",
            "epoch:190 | loss: 0.69299 , acc: 0.51 % | test loss:0.69434 ,test acc: 0.47 %\n",
            "epoch:200 | loss: 0.69299 , acc: 0.51 % | test loss:0.69437 ,test acc: 0.46 %\n",
            "epoch:210 | loss: 0.69298 , acc: 0.51 % | test loss:0.69440 ,test acc: 0.46 %\n",
            "epoch:220 | loss: 0.69298 , acc: 0.51 % | test loss:0.69443 ,test acc: 0.46 %\n",
            "epoch:230 | loss: 0.69298 , acc: 0.52 % | test loss:0.69446 ,test acc: 0.46 %\n",
            "epoch:240 | loss: 0.69298 , acc: 0.52 % | test loss:0.69448 ,test acc: 0.46 %\n",
            "epoch:250 | loss: 0.69298 , acc: 0.52 % | test loss:0.69450 ,test acc: 0.46 %\n",
            "epoch:260 | loss: 0.69298 , acc: 0.51 % | test loss:0.69452 ,test acc: 0.45 %\n",
            "epoch:270 | loss: 0.69298 , acc: 0.52 % | test loss:0.69454 ,test acc: 0.45 %\n",
            "epoch:280 | loss: 0.69298 , acc: 0.52 % | test loss:0.69455 ,test acc: 0.45 %\n",
            "epoch:290 | loss: 0.69298 , acc: 0.52 % | test loss:0.69456 ,test acc: 0.45 %\n",
            "epoch:300 | loss: 0.69298 , acc: 0.52 % | test loss:0.69458 ,test acc: 0.45 %\n",
            "epoch:310 | loss: 0.69298 , acc: 0.51 % | test loss:0.69459 ,test acc: 0.45 %\n",
            "epoch:320 | loss: 0.69298 , acc: 0.51 % | test loss:0.69460 ,test acc: 0.45 %\n",
            "epoch:330 | loss: 0.69298 , acc: 0.51 % | test loss:0.69461 ,test acc: 0.45 %\n",
            "epoch:340 | loss: 0.69298 , acc: 0.51 % | test loss:0.69461 ,test acc: 0.46 %\n",
            "epoch:350 | loss: 0.69298 , acc: 0.51 % | test loss:0.69462 ,test acc: 0.46 %\n",
            "epoch:360 | loss: 0.69298 , acc: 0.51 % | test loss:0.69463 ,test acc: 0.46 %\n",
            "epoch:370 | loss: 0.69298 , acc: 0.51 % | test loss:0.69463 ,test acc: 0.46 %\n",
            "epoch:380 | loss: 0.69298 , acc: 0.51 % | test loss:0.69464 ,test acc: 0.46 %\n",
            "epoch:390 | loss: 0.69298 , acc: 0.51 % | test loss:0.69464 ,test acc: 0.46 %\n",
            "epoch:400 | loss: 0.69298 , acc: 0.51 % | test loss:0.69465 ,test acc: 0.46 %\n",
            "epoch:410 | loss: 0.69298 , acc: 0.51 % | test loss:0.69465 ,test acc: 0.46 %\n",
            "epoch:420 | loss: 0.69298 , acc: 0.51 % | test loss:0.69465 ,test acc: 0.46 %\n",
            "epoch:430 | loss: 0.69298 , acc: 0.51 % | test loss:0.69465 ,test acc: 0.46 %\n",
            "epoch:440 | loss: 0.69298 , acc: 0.51 % | test loss:0.69466 ,test acc: 0.46 %\n",
            "epoch:450 | loss: 0.69298 , acc: 0.51 % | test loss:0.69466 ,test acc: 0.46 %\n",
            "epoch:460 | loss: 0.69298 , acc: 0.51 % | test loss:0.69466 ,test acc: 0.46 %\n",
            "epoch:470 | loss: 0.69298 , acc: 0.51 % | test loss:0.69466 ,test acc: 0.46 %\n",
            "epoch:480 | loss: 0.69298 , acc: 0.51 % | test loss:0.69467 ,test acc: 0.46 %\n",
            "epoch:490 | loss: 0.69298 , acc: 0.51 % | test loss:0.69467 ,test acc: 0.46 %\n",
            "epoch:500 | loss: 0.69298 , acc: 0.51 % | test loss:0.69467 ,test acc: 0.46 %\n",
            "epoch:510 | loss: 0.69298 , acc: 0.51 % | test loss:0.69467 ,test acc: 0.46 %\n",
            "epoch:520 | loss: 0.69298 , acc: 0.51 % | test loss:0.69467 ,test acc: 0.46 %\n",
            "epoch:530 | loss: 0.69298 , acc: 0.51 % | test loss:0.69467 ,test acc: 0.46 %\n",
            "epoch:540 | loss: 0.69298 , acc: 0.51 % | test loss:0.69467 ,test acc: 0.46 %\n",
            "epoch:550 | loss: 0.69298 , acc: 0.51 % | test loss:0.69467 ,test acc: 0.46 %\n",
            "epoch:560 | loss: 0.69298 , acc: 0.51 % | test loss:0.69467 ,test acc: 0.46 %\n",
            "epoch:570 | loss: 0.69298 , acc: 0.51 % | test loss:0.69467 ,test acc: 0.46 %\n",
            "epoch:580 | loss: 0.69298 , acc: 0.51 % | test loss:0.69467 ,test acc: 0.46 %\n",
            "epoch:590 | loss: 0.69298 , acc: 0.51 % | test loss:0.69468 ,test acc: 0.46 %\n",
            "epoch:600 | loss: 0.69298 , acc: 0.51 % | test loss:0.69468 ,test acc: 0.46 %\n",
            "epoch:610 | loss: 0.69298 , acc: 0.51 % | test loss:0.69468 ,test acc: 0.46 %\n",
            "epoch:620 | loss: 0.69298 , acc: 0.51 % | test loss:0.69468 ,test acc: 0.46 %\n",
            "epoch:630 | loss: 0.69298 , acc: 0.51 % | test loss:0.69468 ,test acc: 0.46 %\n",
            "epoch:640 | loss: 0.69298 , acc: 0.51 % | test loss:0.69468 ,test acc: 0.46 %\n",
            "epoch:650 | loss: 0.69298 , acc: 0.51 % | test loss:0.69468 ,test acc: 0.46 %\n",
            "epoch:660 | loss: 0.69298 , acc: 0.51 % | test loss:0.69468 ,test acc: 0.46 %\n",
            "epoch:670 | loss: 0.69298 , acc: 0.51 % | test loss:0.69468 ,test acc: 0.46 %\n",
            "epoch:680 | loss: 0.69298 , acc: 0.51 % | test loss:0.69468 ,test acc: 0.46 %\n",
            "epoch:690 | loss: 0.69298 , acc: 0.51 % | test loss:0.69468 ,test acc: 0.46 %\n",
            "epoch:700 | loss: 0.69298 , acc: 0.51 % | test loss:0.69468 ,test acc: 0.46 %\n",
            "epoch:710 | loss: 0.69298 , acc: 0.51 % | test loss:0.69468 ,test acc: 0.46 %\n",
            "epoch:720 | loss: 0.69298 , acc: 0.51 % | test loss:0.69468 ,test acc: 0.46 %\n",
            "epoch:730 | loss: 0.69298 , acc: 0.51 % | test loss:0.69468 ,test acc: 0.46 %\n",
            "epoch:740 | loss: 0.69298 , acc: 0.51 % | test loss:0.69468 ,test acc: 0.46 %\n",
            "epoch:750 | loss: 0.69298 , acc: 0.51 % | test loss:0.69468 ,test acc: 0.46 %\n",
            "epoch:760 | loss: 0.69298 , acc: 0.51 % | test loss:0.69468 ,test acc: 0.46 %\n",
            "epoch:770 | loss: 0.69298 , acc: 0.51 % | test loss:0.69468 ,test acc: 0.46 %\n",
            "epoch:780 | loss: 0.69298 , acc: 0.51 % | test loss:0.69468 ,test acc: 0.46 %\n",
            "epoch:790 | loss: 0.69298 , acc: 0.51 % | test loss:0.69468 ,test acc: 0.46 %\n",
            "epoch:800 | loss: 0.69298 , acc: 0.51 % | test loss:0.69468 ,test acc: 0.46 %\n",
            "epoch:810 | loss: 0.69298 , acc: 0.51 % | test loss:0.69468 ,test acc: 0.46 %\n",
            "epoch:820 | loss: 0.69298 , acc: 0.51 % | test loss:0.69468 ,test acc: 0.46 %\n",
            "epoch:830 | loss: 0.69298 , acc: 0.51 % | test loss:0.69468 ,test acc: 0.46 %\n",
            "epoch:840 | loss: 0.69298 , acc: 0.51 % | test loss:0.69468 ,test acc: 0.46 %\n",
            "epoch:850 | loss: 0.69298 , acc: 0.51 % | test loss:0.69468 ,test acc: 0.46 %\n",
            "epoch:860 | loss: 0.69298 , acc: 0.51 % | test loss:0.69468 ,test acc: 0.46 %\n",
            "epoch:870 | loss: 0.69298 , acc: 0.51 % | test loss:0.69468 ,test acc: 0.46 %\n",
            "epoch:880 | loss: 0.69298 , acc: 0.51 % | test loss:0.69468 ,test acc: 0.46 %\n",
            "epoch:890 | loss: 0.69298 , acc: 0.51 % | test loss:0.69468 ,test acc: 0.46 %\n",
            "epoch:900 | loss: 0.69298 , acc: 0.51 % | test loss:0.69468 ,test acc: 0.46 %\n",
            "epoch:910 | loss: 0.69298 , acc: 0.51 % | test loss:0.69468 ,test acc: 0.46 %\n",
            "epoch:920 | loss: 0.69298 , acc: 0.51 % | test loss:0.69468 ,test acc: 0.46 %\n",
            "epoch:930 | loss: 0.69298 , acc: 0.51 % | test loss:0.69468 ,test acc: 0.46 %\n",
            "epoch:940 | loss: 0.69298 , acc: 0.51 % | test loss:0.69468 ,test acc: 0.46 %\n",
            "epoch:950 | loss: 0.69298 , acc: 0.51 % | test loss:0.69468 ,test acc: 0.46 %\n",
            "epoch:960 | loss: 0.69298 , acc: 0.51 % | test loss:0.69468 ,test acc: 0.46 %\n",
            "epoch:970 | loss: 0.69298 , acc: 0.51 % | test loss:0.69468 ,test acc: 0.46 %\n",
            "epoch:980 | loss: 0.69298 , acc: 0.51 % | test loss:0.69468 ,test acc: 0.46 %\n",
            "epoch:990 | loss: 0.69298 , acc: 0.51 % | test loss:0.69468 ,test acc: 0.46 %\n"
          ]
        }
      ]
    },
    {
      "cell_type": "code",
      "source": [
        "x_train[:5],y_train[:5]"
      ],
      "metadata": {
        "colab": {
          "base_uri": "https://localhost:8080/"
        },
        "id": "_f7cSlbHdMte",
        "outputId": "10dba3f6-42fe-4385-812f-6d113e026488"
      },
      "execution_count": null,
      "outputs": [
        {
          "output_type": "execute_result",
          "data": {
            "text/plain": [
              "(tensor([[ 0.6579, -0.4651],\n",
              "         [ 0.6319, -0.7347],\n",
              "         [-1.0086, -0.1240],\n",
              "         [-0.9666, -0.2256],\n",
              "         [-0.1666,  0.7994]], device='cuda:0'),\n",
              " tensor([1., 0., 0., 0., 1.], device='cuda:0'))"
            ]
          },
          "metadata": {},
          "execution_count": 165
        }
      ]
    },
    {
      "cell_type": "code",
      "source": [
        "x_test[:5],y_test[:5]"
      ],
      "metadata": {
        "colab": {
          "base_uri": "https://localhost:8080/"
        },
        "id": "I9CN2DmAd8Dc",
        "outputId": "095c1600-17cc-4e6a-9c61-38e13b0a2308"
      },
      "execution_count": null,
      "outputs": [
        {
          "output_type": "execute_result",
          "data": {
            "text/plain": [
              "(tensor([[-0.3752,  0.6827],\n",
              "         [ 0.0154,  0.9600],\n",
              "         [-0.7028, -0.3147],\n",
              "         [-0.2853,  0.9664],\n",
              "         [ 0.4024, -0.7438]], device='cuda:0'),\n",
              " tensor([1., 0., 1., 0., 1.], device='cuda:0'))"
            ]
          },
          "metadata": {},
          "execution_count": 166
        }
      ]
    },
    {
      "cell_type": "code",
      "source": [
        "### build non linear model\n",
        "\n",
        "class CircleModel_2(nn.Module):\n",
        "  def __init__(self):\n",
        "    super().__init__()\n",
        "    self.layer_1=nn.Linear(in_features=2, out_features=32)\n",
        "    self.layer_2=nn.Linear(in_features=32, out_features=32)\n",
        "    self.layer_3=nn.Linear(in_features=32, out_features=32)\n",
        "    self.layer_4=nn.Linear(in_features=32, out_features=1)\n",
        "    self.relu=nn.ReLU()# it is the activation function which zeros all the negative inputs and makes non linear shapes \n",
        "\n",
        "  def forward(self,x):\n",
        "    return self.layer_4(self.relu(self.layer_3(self.relu(self.layer_2(self.relu(self.layer_1(x)))))))\n",
        "\n",
        "model_3=CircleModel_2().to(device)\n",
        "model_3\n"
      ],
      "metadata": {
        "colab": {
          "base_uri": "https://localhost:8080/"
        },
        "id": "oEMOxFEiktZ-",
        "outputId": "76a2c26b-fe0d-4ff2-b22b-4788703717f3"
      },
      "execution_count": null,
      "outputs": [
        {
          "output_type": "execute_result",
          "data": {
            "text/plain": [
              "CircleModel_2(\n",
              "  (layer_1): Linear(in_features=2, out_features=32, bias=True)\n",
              "  (layer_2): Linear(in_features=32, out_features=32, bias=True)\n",
              "  (layer_3): Linear(in_features=32, out_features=32, bias=True)\n",
              "  (layer_4): Linear(in_features=32, out_features=1, bias=True)\n",
              "  (relu): ReLU()\n",
              ")"
            ]
          },
          "metadata": {},
          "execution_count": 167
        }
      ]
    },
    {
      "cell_type": "code",
      "source": [
        "from torch.nn.modules.loss import BCEWithLogitsLoss\n",
        "# loss and optimizer\n",
        "loss_fn=BCEWithLogitsLoss()\n",
        "optimizer=torch.optim.SGD(params=model_3.parameters(), lr=0.1)\n"
      ],
      "metadata": {
        "id": "1dxRuTCenEJM"
      },
      "execution_count": null,
      "outputs": []
    },
    {
      "cell_type": "code",
      "source": [
        "#training and testing\n",
        "##seeds reproducability\n",
        "torch.manual_seed(42)\n",
        "torch.cuda.manual_seed(42)\n",
        "\n",
        "## check data and device\n",
        "x_train,y_train= x_train.to(device), y_train.to(device)\n",
        "x_test, y_test=x_test.to(device),y_test.to(device)\n",
        "\n",
        "epochs=1000\n",
        "\n",
        "for epoch in range(epochs):\n",
        "  model_3.train()\n",
        "\n",
        "  y_logits=model_3(x_train).squeeze()\n",
        "  y_pred=torch.round(torch.sigmoid(y_logits))\n",
        "\n",
        "  loss=loss_fn(y_logits,y_train)\n",
        "  acc= accuracy_fn(y_true=y_train,y_pred=y_pred)\n",
        "\n",
        "\n",
        "  optimizer.zero_grad()\n",
        "\n",
        "  loss.backward()\n",
        "\n",
        "  optimizer.step()\n",
        "\n",
        "  ###testing\n",
        "  model_3.eval()\n",
        "  with torch.inference_mode():\n",
        "    logits=model_3(x_test).squeeze()\n",
        "    test_pred=torch.round(torch.sigmoid(logits))\n",
        "\n",
        "    loss=loss_fn(logits,y_test)\n",
        "    test_acc= accuracy_fn(y_true=y_test,y_pred=test_pred)\n",
        "\n",
        "\n",
        "    optimizer.zero_grad()\n",
        "\n",
        "    \n",
        "\n",
        "  if epoch % 100 == 0:\n",
        "    print(f\"epoch:{epoch} | loss: {loss:.5f} , acc: {acc:.2f} % | test loss:{test_loss:.5f} ,test acc: {test_acc:.2f} %\")\n",
        "\n",
        "\n"
      ],
      "metadata": {
        "colab": {
          "base_uri": "https://localhost:8080/"
        },
        "id": "eqKD-uq5n6pt",
        "outputId": "cb9eda7c-b238-46ae-948d-df96ac5c1f79"
      },
      "execution_count": null,
      "outputs": [
        {
          "output_type": "stream",
          "name": "stdout",
          "text": [
            "epoch:0 | loss: 0.69305 , acc: 0.50 % | test loss:0.69468 ,test acc: 0.50 %\n",
            "epoch:100 | loss: 0.69130 , acc: 0.54 % | test loss:0.69468 ,test acc: 0.57 %\n",
            "epoch:200 | loss: 0.68978 , acc: 0.56 % | test loss:0.69468 ,test acc: 0.58 %\n",
            "epoch:300 | loss: 0.68735 , acc: 0.57 % | test loss:0.69468 ,test acc: 0.59 %\n",
            "epoch:400 | loss: 0.68317 , acc: 0.61 % | test loss:0.69468 ,test acc: 0.60 %\n",
            "epoch:500 | loss: 0.67421 , acc: 0.77 % | test loss:0.69468 ,test acc: 0.79 %\n",
            "epoch:600 | loss: 0.64984 , acc: 0.90 % | test loss:0.69468 ,test acc: 0.85 %\n",
            "epoch:700 | loss: 0.54784 , acc: 0.99 % | test loss:0.69468 ,test acc: 0.98 %\n",
            "epoch:800 | loss: 0.46812 , acc: 0.74 % | test loss:0.69468 ,test acc: 0.63 %\n",
            "epoch:900 | loss: 0.33899 , acc: 0.88 % | test loss:0.69468 ,test acc: 0.80 %\n"
          ]
        }
      ]
    },
    {
      "cell_type": "code",
      "source": [
        "#evaluate\n",
        "model_3.eval()\n",
        "with torch.inference_mode():\n",
        "  y_preds=torch.round(torch.sigmoid(model_3(x_test))).squeeze()\n",
        "\n",
        "y_preds[:10], y_test[:10]\n"
      ],
      "metadata": {
        "colab": {
          "base_uri": "https://localhost:8080/"
        },
        "id": "MFDR4rJd4sM1",
        "outputId": "11473bda-2ce9-4339-9068-e5848fa0de9a"
      },
      "execution_count": null,
      "outputs": [
        {
          "output_type": "execute_result",
          "data": {
            "text/plain": [
              "(tensor([1., 0., 1., 0., 1., 1., 0., 0., 1., 0.], device='cuda:0'),\n",
              " tensor([1., 0., 1., 0., 1., 1., 0., 0., 1., 0.], device='cuda:0'))"
            ]
          },
          "metadata": {},
          "execution_count": 170
        }
      ]
    },
    {
      "cell_type": "code",
      "source": [
        "#plot\n",
        "plt.figure(figsize=(12,6))\n",
        "plt.subplot(1,2,1)\n",
        "plt.title('Train')\n",
        "plot_decision_boundary(model_3, x_train , y_train)\n",
        "plt.subplot(1,2,2)\n",
        "plt.title('Test')\n",
        "plot_decision_boundary(model_3, x_test, y_test)"
      ],
      "metadata": {
        "colab": {
          "base_uri": "https://localhost:8080/",
          "height": 390
        },
        "id": "ujqD5Lo1625n",
        "outputId": "f0d535de-4a34-4c41-f96d-01a494603c93"
      },
      "execution_count": null,
      "outputs": [
        {
          "output_type": "display_data",
          "data": {
            "text/plain": [
              "<Figure size 864x432 with 2 Axes>"
            ],
            "image/png": "[encoded data removed]"
          },
          "metadata": {
            "needs_background": "light"
          }
        }
      ]
    },
    {
      "cell_type": "code",
      "source": [
        "#replicate"
      ],
      "metadata": {
        "id": "PO3lNAdG7qWJ"
      },
      "execution_count": null,
      "outputs": []
    }
  ]
}