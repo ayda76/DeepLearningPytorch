{
  "nbformat": 4,
  "nbformat_minor": 0,
  "metadata": {
    "colab": {
      "provenance": []
    },
    "kernelspec": {
      "name": "python3",
      "display_name": "Python 3"
    },
    "language_info": {
      "name": "python"
    },
    "accelerator": "GPU",
    "gpuClass": "standard"
  },
  "cells": [
    {
      "cell_type": "code",
      "execution_count": 2,
      "metadata": {
        "id": "OleNM7u8Nzs9"
      },
      "outputs": [],
      "source": [
        "import tensorflow as tf\n",
        "\n",
        "from tensorflow.keras.preprocessing.text import Tokenizer\n",
        "from tensorflow.keras.layers import Embedding, LSTM, Dense\n",
        "from tensorflow.keras.models import Sequential\n",
        "from tensorflow.keras.utils import to_categorical\n",
        "from tensorflow.keras.optimizers import Adam\n",
        "import pickle\n",
        "import numpy as np\n",
        "import os"
      ]
    },
    {
      "cell_type": "code",
      "source": [
        "from google.colab import files\n",
        "uploaded = files.upload()"
      ],
      "metadata": {
        "colab": {
          "base_uri": "https://localhost:8080/",
          "height": 73
        },
        "id": "XpKJgzbjOCvb",
        "outputId": "5edf0fdc-47b4-481f-8cef-3a484dfcd7bf"
      },
      "execution_count": 3,
      "outputs": [
        {
          "output_type": "display_data",
          "data": {
            "text/plain": [
              "<IPython.core.display.HTML object>"
            ],
            "text/html": [
              "\n",
              "     <input type=\"file\" id=\"files-1d1838eb-92a6-4e01-8715-91d3ada16add\" name=\"files[]\" multiple disabled\n",
              "        style=\"border:none\" />\n",
              "     <output id=\"result-1d1838eb-92a6-4e01-8715-91d3ada16add\">\n",
              "      Upload widget is only available when the cell has been executed in the\n",
              "      current browser session. Please rerun this cell to enable.\n",
              "      </output>\n",
              "      <script>// Copyright 2017 Google LLC\n",
              "//\n",
              "// Licensed under the Apache License, Version 2.0 (the \"License\");\n",
              "// you may not use this file except in compliance with the License.\n",
              "// You may obtain a copy of the License at\n",
              "//\n",
              "//      http://www.apache.org/licenses/LICENSE-2.0\n",
              "//\n",
              "// Unless required by applicable law or agreed to in writing, software\n",
              "// distributed under the License is distributed on an \"AS IS\" BASIS,\n",
              "// WITHOUT WARRANTIES OR CONDITIONS OF ANY KIND, either express or implied.\n",
              "// See the License for the specific language governing permissions and\n",
              "// limitations under the License.\n",
              "\n",
              "/**\n",
              " * @fileoverview Helpers for google.colab Python module.\n",
              " */\n",
              "(function(scope) {\n",
              "function span(text, styleAttributes = {}) {\n",
              "  const element = document.createElement('span');\n",
              "  element.textContent = text;\n",
              "  for (const key of Object.keys(styleAttributes)) {\n",
              "    element.style[key] = styleAttributes[key];\n",
              "  }\n",
              "  return element;\n",
              "}\n",
              "\n",
              "// Max number of bytes which will be uploaded at a time.\n",
              "const MAX_PAYLOAD_SIZE = 100 * 1024;\n",
              "\n",
              "function _uploadFiles(inputId, outputId) {\n",
              "  const steps = uploadFilesStep(inputId, outputId);\n",
              "  const outputElement = document.getElementById(outputId);\n",
              "  // Cache steps on the outputElement to make it available for the next call\n",
              "  // to uploadFilesContinue from Python.\n",
              "  outputElement.steps = steps;\n",
              "\n",
              "  return _uploadFilesContinue(outputId);\n",
              "}\n",
              "\n",
              "// This is roughly an async generator (not supported in the browser yet),\n",
              "// where there are multiple asynchronous steps and the Python side is going\n",
              "// to poll for completion of each step.\n",
              "// This uses a Promise to block the python side on completion of each step,\n",
              "// then passes the result of the previous step as the input to the next step.\n",
              "function _uploadFilesContinue(outputId) {\n",
              "  const outputElement = document.getElementById(outputId);\n",
              "  const steps = outputElement.steps;\n",
              "\n",
              "  const next = steps.next(outputElement.lastPromiseValue);\n",
              "  return Promise.resolve(next.value.promise).then((value) => {\n",
              "    // Cache the last promise value to make it available to the next\n",
              "    // step of the generator.\n",
              "    outputElement.lastPromiseValue = value;\n",
              "    return next.value.response;\n",
              "  });\n",
              "}\n",
              "\n",
              "/**\n",
              " * Generator function which is called between each async step of the upload\n",
              " * process.\n",
              " * @param {string} inputId Element ID of the input file picker element.\n",
              " * @param {string} outputId Element ID of the output display.\n",
              " * @return {!Iterable<!Object>} Iterable of next steps.\n",
              " */\n",
              "function* uploadFilesStep(inputId, outputId) {\n",
              "  const inputElement = document.getElementById(inputId);\n",
              "  inputElement.disabled = false;\n",
              "\n",
              "  const outputElement = document.getElementById(outputId);\n",
              "  outputElement.innerHTML = '';\n",
              "\n",
              "  const pickedPromise = new Promise((resolve) => {\n",
              "    inputElement.addEventListener('change', (e) => {\n",
              "      resolve(e.target.files);\n",
              "    });\n",
              "  });\n",
              "\n",
              "  const cancel = document.createElement('button');\n",
              "  inputElement.parentElement.appendChild(cancel);\n",
              "  cancel.textContent = 'Cancel upload';\n",
              "  const cancelPromise = new Promise((resolve) => {\n",
              "    cancel.onclick = () => {\n",
              "      resolve(null);\n",
              "    };\n",
              "  });\n",
              "\n",
              "  // Wait for the user to pick the files.\n",
              "  const files = yield {\n",
              "    promise: Promise.race([pickedPromise, cancelPromise]),\n",
              "    response: {\n",
              "      action: 'starting',\n",
              "    }\n",
              "  };\n",
              "\n",
              "  cancel.remove();\n",
              "\n",
              "  // Disable the input element since further picks are not allowed.\n",
              "  inputElement.disabled = true;\n",
              "\n",
              "  if (!files) {\n",
              "    return {\n",
              "      response: {\n",
              "        action: 'complete',\n",
              "      }\n",
              "    };\n",
              "  }\n",
              "\n",
              "  for (const file of files) {\n",
              "    const li = document.createElement('li');\n",
              "    li.append(span(file.name, {fontWeight: 'bold'}));\n",
              "    li.append(span(\n",
              "        `(${file.type || 'n/a'}) - ${file.size} bytes, ` +\n",
              "        `last modified: ${\n",
              "            file.lastModifiedDate ? file.lastModifiedDate.toLocaleDateString() :\n",
              "                                    'n/a'} - `));\n",
              "    const percent = span('0% done');\n",
              "    li.appendChild(percent);\n",
              "\n",
              "    outputElement.appendChild(li);\n",
              "\n",
              "    const fileDataPromise = new Promise((resolve) => {\n",
              "      const reader = new FileReader();\n",
              "      reader.onload = (e) => {\n",
              "        resolve(e.target.result);\n",
              "      };\n",
              "      reader.readAsArrayBuffer(file);\n",
              "    });\n",
              "    // Wait for the data to be ready.\n",
              "    let fileData = yield {\n",
              "      promise: fileDataPromise,\n",
              "      response: {\n",
              "        action: 'continue',\n",
              "      }\n",
              "    };\n",
              "\n",
              "    // Use a chunked sending to avoid message size limits. See b/62115660.\n",
              "    let position = 0;\n",
              "    do {\n",
              "      const length = Math.min(fileData.byteLength - position, MAX_PAYLOAD_SIZE);\n",
              "      const chunk = new Uint8Array(fileData, position, length);\n",
              "      position += length;\n",
              "\n",
              "      const base64 = btoa(String.fromCharCode.apply(null, chunk));\n",
              "      yield {\n",
              "        response: {\n",
              "          action: 'append',\n",
              "          file: file.name,\n",
              "          data: base64,\n",
              "        },\n",
              "      };\n",
              "\n",
              "      let percentDone = fileData.byteLength === 0 ?\n",
              "          100 :\n",
              "          Math.round((position / fileData.byteLength) * 100);\n",
              "      percent.textContent = `${percentDone}% done`;\n",
              "\n",
              "    } while (position < fileData.byteLength);\n",
              "  }\n",
              "\n",
              "  // All done.\n",
              "  yield {\n",
              "    response: {\n",
              "      action: 'complete',\n",
              "    }\n",
              "  };\n",
              "}\n",
              "\n",
              "scope.google = scope.google || {};\n",
              "scope.google.colab = scope.google.colab || {};\n",
              "scope.google.colab._files = {\n",
              "  _uploadFiles,\n",
              "  _uploadFilesContinue,\n",
              "};\n",
              "})(self);\n",
              "</script> "
            ]
          },
          "metadata": {}
        },
        {
          "output_type": "stream",
          "name": "stdout",
          "text": [
            "Saving Pride.txt to Pride.txt\n"
          ]
        }
      ]
    },
    {
      "cell_type": "code",
      "source": [
        "file = open(\"Pride.txt\", \"r\", encoding = \"utf8\")\n",
        "\n",
        "# store file in list\n",
        "lines = []\n",
        "for i in file:\n",
        "    lines.append(i)\n",
        "\n",
        "# Convert list to string\n",
        "data = \"\"\n",
        "for i in lines:\n",
        "  data = ' '. join(lines) \n",
        "\n",
        "#replace unnecessary stuff with space\n",
        "data = data.replace('\\n', '').replace('\\r', '').replace('\\ufeff', '').replace('“','').replace('”','')  #new line, carriage return, unicode character --> replace by space\n",
        "\n",
        "#remove unnecessary spaces \n",
        "data = data.split()\n",
        "data = ' '.join(data)\n",
        "data[:500]"
      ],
      "metadata": {
        "colab": {
          "base_uri": "https://localhost:8080/",
          "height": 87
        },
        "id": "qlODJe0jOHqR",
        "outputId": "dcdff281-4315-4bd8-f866-ad4fee909953"
      },
      "execution_count": 4,
      "outputs": [
        {
          "output_type": "execute_result",
          "data": {
            "text/plain": [
              "'The Project Gutenberg eBook, Pride and Prejudice, by Jane Austen, Edited by R. W. (Robert William) Chapman This eBook is for the use of anyone anywhere at no cost and with almost no restrictions whatsoever. You may copy it, give it away or re-use it under the terms of the Project Gutenberg License included with this eBook or online at www.gutenberg.org Title: Pride and Prejudice Author: Jane Austen Editor: R. W. (Robert William) Chapman Release Date: May 9, 2013 [eBook #42671] Language: English '"
            ],
            "application/vnd.google.colaboratory.intrinsic+json": {
              "type": "string"
            }
          },
          "metadata": {},
          "execution_count": 4
        }
      ]
    },
    {
      "cell_type": "code",
      "source": [
        "\n",
        "len(data)"
      ],
      "metadata": {
        "colab": {
          "base_uri": "https://localhost:8080/"
        },
        "id": "cwS4GOFwOMZo",
        "outputId": "e38f65f8-51ac-4992-d26c-f1da821ca35b"
      },
      "execution_count": 5,
      "outputs": [
        {
          "output_type": "execute_result",
          "data": {
            "text/plain": [
              "704792"
            ]
          },
          "metadata": {},
          "execution_count": 5
        }
      ]
    },
    {
      "cell_type": "code",
      "source": [
        "tokenizer = Tokenizer()\n",
        "tokenizer.fit_on_texts([data])\n",
        "\n",
        "# saving the tokenizer for predict function\n",
        "pickle.dump(tokenizer, open('token.pkl', 'wb'))\n",
        "\n",
        "sequence_data = tokenizer.texts_to_sequences([data])[0]\n",
        "sequence_data[:15]"
      ],
      "metadata": {
        "colab": {
          "base_uri": "https://localhost:8080/"
        },
        "id": "wSkShrz3OP-q",
        "outputId": "2f4eb449-a476-419a-bf30-ce6e66cb8a14"
      },
      "execution_count": 6,
      "outputs": [
        {
          "output_type": "execute_result",
          "data": {
            "text/plain": [
              "[1, 178, 157, 1173, 290, 4, 877, 30, 73, 3195, 4176, 30, 3196, 2163, 3197]"
            ]
          },
          "metadata": {},
          "execution_count": 6
        }
      ]
    },
    {
      "cell_type": "code",
      "source": [
        "len(sequence_data)"
      ],
      "metadata": {
        "colab": {
          "base_uri": "https://localhost:8080/"
        },
        "id": "sUc2xfmOOSfY",
        "outputId": "26b312d7-5c30-4704-f14f-e4af9e99e109"
      },
      "execution_count": 7,
      "outputs": [
        {
          "output_type": "execute_result",
          "data": {
            "text/plain": [
              "126018"
            ]
          },
          "metadata": {},
          "execution_count": 7
        }
      ]
    },
    {
      "cell_type": "code",
      "source": [
        "vocab_size = len(tokenizer.word_index) + 1\n",
        "print(vocab_size)"
      ],
      "metadata": {
        "colab": {
          "base_uri": "https://localhost:8080/"
        },
        "id": "qYwtiBhLOVDK",
        "outputId": "f52548c8-67d5-4153-8dde-1ee03b849690"
      },
      "execution_count": 8,
      "outputs": [
        {
          "output_type": "stream",
          "name": "stdout",
          "text": [
            "6736\n"
          ]
        }
      ]
    },
    {
      "cell_type": "code",
      "source": [
        "sequences = []\n",
        "\n",
        "for i in range(3, len(sequence_data)):\n",
        "    words = sequence_data[i-3:i+1]\n",
        "    sequences.append(words)\n",
        "    \n",
        "print(\"The Length of sequences are: \", len(sequences))\n",
        "sequences = np.array(sequences)\n",
        "sequences[:10]"
      ],
      "metadata": {
        "colab": {
          "base_uri": "https://localhost:8080/"
        },
        "id": "yuLu-I7nOY_y",
        "outputId": "d98575da-6e34-4575-ecd4-97c6416c018c"
      },
      "execution_count": 9,
      "outputs": [
        {
          "output_type": "stream",
          "name": "stdout",
          "text": [
            "The Length of sequences are:  126015\n"
          ]
        },
        {
          "output_type": "execute_result",
          "data": {
            "text/plain": [
              "array([[   1,  178,  157, 1173],\n",
              "       [ 178,  157, 1173,  290],\n",
              "       [ 157, 1173,  290,    4],\n",
              "       [1173,  290,    4,  877],\n",
              "       [ 290,    4,  877,   30],\n",
              "       [   4,  877,   30,   73],\n",
              "       [ 877,   30,   73, 3195],\n",
              "       [  30,   73, 3195, 4176],\n",
              "       [  73, 3195, 4176,   30],\n",
              "       [3195, 4176,   30, 3196]])"
            ]
          },
          "metadata": {},
          "execution_count": 9
        }
      ]
    },
    {
      "cell_type": "code",
      "source": [
        "X = []\n",
        "y = []\n",
        "\n",
        "for i in sequences:\n",
        "    X.append(i[0:3])\n",
        "    y.append(i[3])\n",
        "    \n",
        "X = np.array(X)\n",
        "y = np.array(y)"
      ],
      "metadata": {
        "id": "b3js4xNGOcER"
      },
      "execution_count": 10,
      "outputs": []
    },
    {
      "cell_type": "code",
      "source": [
        "print(\"Data: \", X[:10])\n",
        "print(\"Response: \", y[:10])"
      ],
      "metadata": {
        "colab": {
          "base_uri": "https://localhost:8080/"
        },
        "id": "mjtShXmjOgmi",
        "outputId": "f11a1c2e-1ebc-435c-b93f-fd1d8004ccff"
      },
      "execution_count": 11,
      "outputs": [
        {
          "output_type": "stream",
          "name": "stdout",
          "text": [
            "Data:  [[   1  178  157]\n",
            " [ 178  157 1173]\n",
            " [ 157 1173  290]\n",
            " [1173  290    4]\n",
            " [ 290    4  877]\n",
            " [   4  877   30]\n",
            " [ 877   30   73]\n",
            " [  30   73 3195]\n",
            " [  73 3195 4176]\n",
            " [3195 4176   30]]\n",
            "Response:  [1173  290    4  877   30   73 3195 4176   30 3196]\n"
          ]
        }
      ]
    },
    {
      "cell_type": "code",
      "source": [
        "y = to_categorical(y, num_classes=vocab_size)\n",
        "y[:5]"
      ],
      "metadata": {
        "colab": {
          "base_uri": "https://localhost:8080/"
        },
        "id": "iGQqRPsGOj3R",
        "outputId": "74d1786c-b5a7-4b10-dacf-798cc8835656"
      },
      "execution_count": 12,
      "outputs": [
        {
          "output_type": "execute_result",
          "data": {
            "text/plain": [
              "array([[0., 0., 0., ..., 0., 0., 0.],\n",
              "       [0., 0., 0., ..., 0., 0., 0.],\n",
              "       [0., 0., 0., ..., 0., 0., 0.],\n",
              "       [0., 0., 0., ..., 0., 0., 0.],\n",
              "       [0., 0., 0., ..., 0., 0., 0.]], dtype=float32)"
            ]
          },
          "metadata": {},
          "execution_count": 12
        }
      ]
    },
    {
      "cell_type": "code",
      "source": [
        "model = Sequential()\n",
        "model.add(Embedding(vocab_size, 10, input_length=3))\n",
        "model.add(LSTM(1000, return_sequences=True))\n",
        "model.add(LSTM(1000))\n",
        "model.add(Dense(1000, activation=\"relu\"))\n",
        "model.add(Dense(vocab_size, activation=\"softmax\"))"
      ],
      "metadata": {
        "id": "UkdaWUOMOmk5"
      },
      "execution_count": 13,
      "outputs": []
    },
    {
      "cell_type": "code",
      "source": [
        "model.summary()"
      ],
      "metadata": {
        "colab": {
          "base_uri": "https://localhost:8080/"
        },
        "id": "HUAa45E8OqMj",
        "outputId": "6c17be49-ce18-4550-f85a-d9ce105a0cdf"
      },
      "execution_count": 14,
      "outputs": [
        {
          "output_type": "stream",
          "name": "stdout",
          "text": [
            "Model: \"sequential\"\n",
            "_________________________________________________________________\n",
            " Layer (type)                Output Shape              Param #   \n",
            "=================================================================\n",
            " embedding (Embedding)       (None, 3, 10)             67360     \n",
            "                                                                 \n",
            " lstm (LSTM)                 (None, 3, 1000)           4044000   \n",
            "                                                                 \n",
            " lstm_1 (LSTM)               (None, 1000)              8004000   \n",
            "                                                                 \n",
            " dense (Dense)               (None, 1000)              1001000   \n",
            "                                                                 \n",
            " dense_1 (Dense)             (None, 6736)              6742736   \n",
            "                                                                 \n",
            "=================================================================\n",
            "Total params: 19,859,096\n",
            "Trainable params: 19,859,096\n",
            "Non-trainable params: 0\n",
            "_________________________________________________________________\n"
          ]
        }
      ]
    },
    {
      "cell_type": "code",
      "source": [
        "from tensorflow import keras\n",
        "from keras.utils.vis_utils import plot_model\n",
        "\n",
        "keras.utils.plot_model(model, to_file='plot.png', show_layer_names=True)"
      ],
      "metadata": {
        "colab": {
          "base_uri": "https://localhost:8080/",
          "height": 564
        },
        "id": "3OyIKvwNOuiq",
        "outputId": "3124432a-4cab-47a9-d7d1-1dddcf4f6e74"
      },
      "execution_count": 15,
      "outputs": [
        {
          "output_type": "execute_result",
          "data": {
            "image/png": "[encoded data removed]",
            "text/plain": [
              "<IPython.core.display.Image object>"
            ]
          },
          "metadata": {},
          "execution_count": 15
        }
      ]
    },
    {
      "cell_type": "code",
      "source": [
        "from tensorflow.keras.callbacks import ModelCheckpoint\n",
        "\n",
        "checkpoint = ModelCheckpoint(\"next_words.h5\", monitor='loss', verbose=1, save_best_only=True)\n",
        "model.compile(loss=\"categorical_crossentropy\", optimizer=Adam(learning_rate=0.001))\n",
        "model.fit(X, y, epochs=70, batch_size=64, callbacks=[checkpoint])"
      ],
      "metadata": {
        "colab": {
          "base_uri": "https://localhost:8080/"
        },
        "id": "TcQV2rfrOzdR",
        "outputId": "baefe653-e6b5-4eee-c5a4-0ff915c56dab"
      },
      "execution_count": 16,
      "outputs": [
        {
          "output_type": "stream",
          "name": "stdout",
          "text": [
            "Epoch 1/70\n",
            "1967/1969 [============================>.] - ETA: 0s - loss: 6.2320\n",
            "Epoch 1: loss improved from inf to 6.23148, saving model to next_words.h5\n",
            "1969/1969 [==============================] - 38s 15ms/step - loss: 6.2315\n",
            "Epoch 2/70\n",
            "1966/1969 [============================>.] - ETA: 0s - loss: 5.6028\n",
            "Epoch 2: loss improved from 6.23148 to 5.60221, saving model to next_words.h5\n",
            "1969/1969 [==============================] - 30s 15ms/step - loss: 5.6022\n",
            "Epoch 3/70\n",
            "1969/1969 [==============================] - ETA: 0s - loss: 5.2419\n",
            "Epoch 3: loss improved from 5.60221 to 5.24193, saving model to next_words.h5\n",
            "1969/1969 [==============================] - 30s 15ms/step - loss: 5.2419\n",
            "Epoch 4/70\n",
            "1968/1969 [============================>.] - ETA: 0s - loss: 5.0018\n",
            "Epoch 4: loss improved from 5.24193 to 5.00168, saving model to next_words.h5\n",
            "1969/1969 [==============================] - 30s 15ms/step - loss: 5.0017\n",
            "Epoch 5/70\n",
            "1966/1969 [============================>.] - ETA: 0s - loss: 4.7911\n",
            "Epoch 5: loss improved from 5.00168 to 4.79111, saving model to next_words.h5\n",
            "1969/1969 [==============================] - 30s 15ms/step - loss: 4.7911\n",
            "Epoch 6/70\n",
            "1966/1969 [============================>.] - ETA: 0s - loss: 4.5881\n",
            "Epoch 6: loss improved from 4.79111 to 4.58809, saving model to next_words.h5\n",
            "1969/1969 [==============================] - 30s 15ms/step - loss: 4.5881\n",
            "Epoch 7/70\n",
            "1968/1969 [============================>.] - ETA: 0s - loss: 4.3848\n",
            "Epoch 7: loss improved from 4.58809 to 4.38480, saving model to next_words.h5\n",
            "1969/1969 [==============================] - 30s 15ms/step - loss: 4.3848\n",
            "Epoch 8/70\n",
            "1967/1969 [============================>.] - ETA: 0s - loss: 4.1821\n",
            "Epoch 8: loss improved from 4.38480 to 4.18208, saving model to next_words.h5\n",
            "1969/1969 [==============================] - 30s 15ms/step - loss: 4.1821\n",
            "Epoch 9/70\n",
            "1969/1969 [==============================] - ETA: 0s - loss: 3.9696\n",
            "Epoch 9: loss improved from 4.18208 to 3.96960, saving model to next_words.h5\n",
            "1969/1969 [==============================] - 30s 15ms/step - loss: 3.9696\n",
            "Epoch 10/70\n",
            "1967/1969 [============================>.] - ETA: 0s - loss: 3.7519\n",
            "Epoch 10: loss improved from 3.96960 to 3.75224, saving model to next_words.h5\n",
            "1969/1969 [==============================] - 30s 15ms/step - loss: 3.7522\n",
            "Epoch 11/70\n",
            "1969/1969 [==============================] - ETA: 0s - loss: 3.5288\n",
            "Epoch 11: loss improved from 3.75224 to 3.52883, saving model to next_words.h5\n",
            "1969/1969 [==============================] - 30s 15ms/step - loss: 3.5288\n",
            "Epoch 12/70\n",
            "1969/1969 [==============================] - ETA: 0s - loss: 3.3052\n",
            "Epoch 12: loss improved from 3.52883 to 3.30522, saving model to next_words.h5\n",
            "1969/1969 [==============================] - 30s 15ms/step - loss: 3.3052\n",
            "Epoch 13/70\n",
            "1967/1969 [============================>.] - ETA: 0s - loss: 3.0810\n",
            "Epoch 13: loss improved from 3.30522 to 3.08114, saving model to next_words.h5\n",
            "1969/1969 [==============================] - 30s 15ms/step - loss: 3.0811\n",
            "Epoch 14/70\n",
            "1969/1969 [==============================] - ETA: 0s - loss: 2.8510\n",
            "Epoch 14: loss improved from 3.08114 to 2.85099, saving model to next_words.h5\n",
            "1969/1969 [==============================] - 30s 15ms/step - loss: 2.8510\n",
            "Epoch 15/70\n",
            "1968/1969 [============================>.] - ETA: 0s - loss: 2.6180\n",
            "Epoch 15: loss improved from 2.85099 to 2.61825, saving model to next_words.h5\n",
            "1969/1969 [==============================] - 30s 15ms/step - loss: 2.6182\n",
            "Epoch 16/70\n",
            "1968/1969 [============================>.] - ETA: 0s - loss: 2.3775\n",
            "Epoch 16: loss improved from 2.61825 to 2.37753, saving model to next_words.h5\n",
            "1969/1969 [==============================] - 30s 15ms/step - loss: 2.3775\n",
            "Epoch 17/70\n",
            "1968/1969 [============================>.] - ETA: 0s - loss: 2.1504\n",
            "Epoch 17: loss improved from 2.37753 to 2.15036, saving model to next_words.h5\n",
            "1969/1969 [==============================] - 30s 15ms/step - loss: 2.1504\n",
            "Epoch 18/70\n",
            "1966/1969 [============================>.] - ETA: 0s - loss: 1.9219\n",
            "Epoch 18: loss improved from 2.15036 to 1.92225, saving model to next_words.h5\n",
            "1969/1969 [==============================] - 30s 15ms/step - loss: 1.9223\n",
            "Epoch 19/70\n",
            "1969/1969 [==============================] - ETA: 0s - loss: 1.7151\n",
            "Epoch 19: loss improved from 1.92225 to 1.71511, saving model to next_words.h5\n",
            "1969/1969 [==============================] - 30s 15ms/step - loss: 1.7151\n",
            "Epoch 20/70\n",
            "1968/1969 [============================>.] - ETA: 0s - loss: 1.5308\n",
            "Epoch 20: loss improved from 1.71511 to 1.53078, saving model to next_words.h5\n",
            "1969/1969 [==============================] - 30s 15ms/step - loss: 1.5308\n",
            "Epoch 21/70\n",
            "1968/1969 [============================>.] - ETA: 0s - loss: 1.3636\n",
            "Epoch 21: loss improved from 1.53078 to 1.36362, saving model to next_words.h5\n",
            "1969/1969 [==============================] - 30s 15ms/step - loss: 1.3636\n",
            "Epoch 22/70\n",
            "1969/1969 [==============================] - ETA: 0s - loss: 1.2273\n",
            "Epoch 22: loss improved from 1.36362 to 1.22734, saving model to next_words.h5\n",
            "1969/1969 [==============================] - 30s 15ms/step - loss: 1.2273\n",
            "Epoch 23/70\n",
            "1967/1969 [============================>.] - ETA: 0s - loss: 1.1116\n",
            "Epoch 23: loss improved from 1.22734 to 1.11188, saving model to next_words.h5\n",
            "1969/1969 [==============================] - 30s 15ms/step - loss: 1.1119\n",
            "Epoch 24/70\n",
            "1968/1969 [============================>.] - ETA: 0s - loss: 1.0218\n",
            "Epoch 24: loss improved from 1.11188 to 1.02181, saving model to next_words.h5\n",
            "1969/1969 [==============================] - 30s 15ms/step - loss: 1.0218\n",
            "Epoch 25/70\n",
            "1967/1969 [============================>.] - ETA: 0s - loss: 0.9471\n",
            "Epoch 25: loss improved from 1.02181 to 0.94685, saving model to next_words.h5\n",
            "1969/1969 [==============================] - 30s 15ms/step - loss: 0.9469\n",
            "Epoch 26/70\n",
            "1968/1969 [============================>.] - ETA: 0s - loss: 0.8858\n",
            "Epoch 26: loss improved from 0.94685 to 0.88588, saving model to next_words.h5\n",
            "1969/1969 [==============================] - 30s 15ms/step - loss: 0.8859\n",
            "Epoch 27/70\n",
            "1966/1969 [============================>.] - ETA: 0s - loss: 0.8380\n",
            "Epoch 27: loss improved from 0.88588 to 0.83820, saving model to next_words.h5\n",
            "1969/1969 [==============================] - 30s 15ms/step - loss: 0.8382\n",
            "Epoch 28/70\n",
            "1967/1969 [============================>.] - ETA: 0s - loss: 0.7968\n",
            "Epoch 28: loss improved from 0.83820 to 0.79701, saving model to next_words.h5\n",
            "1969/1969 [==============================] - 30s 15ms/step - loss: 0.7970\n",
            "Epoch 29/70\n",
            "1968/1969 [============================>.] - ETA: 0s - loss: 0.7646\n",
            "Epoch 29: loss improved from 0.79701 to 0.76468, saving model to next_words.h5\n",
            "1969/1969 [==============================] - 30s 15ms/step - loss: 0.7647\n",
            "Epoch 30/70\n",
            "1968/1969 [============================>.] - ETA: 0s - loss: 0.7354\n",
            "Epoch 30: loss improved from 0.76468 to 0.73549, saving model to next_words.h5\n",
            "1969/1969 [==============================] - 30s 15ms/step - loss: 0.7355\n",
            "Epoch 31/70\n",
            "1969/1969 [==============================] - ETA: 0s - loss: 0.7091\n",
            "Epoch 31: loss improved from 0.73549 to 0.70915, saving model to next_words.h5\n",
            "1969/1969 [==============================] - 30s 15ms/step - loss: 0.7091\n",
            "Epoch 32/70\n",
            "1966/1969 [============================>.] - ETA: 0s - loss: 0.6909\n",
            "Epoch 32: loss improved from 0.70915 to 0.69135, saving model to next_words.h5\n",
            "1969/1969 [==============================] - 30s 15ms/step - loss: 0.6913\n",
            "Epoch 33/70\n",
            "1969/1969 [==============================] - ETA: 0s - loss: 0.6728\n",
            "Epoch 33: loss improved from 0.69135 to 0.67277, saving model to next_words.h5\n",
            "1969/1969 [==============================] - 31s 16ms/step - loss: 0.6728\n",
            "Epoch 34/70\n",
            "1966/1969 [============================>.] - ETA: 0s - loss: 0.6533\n",
            "Epoch 34: loss improved from 0.67277 to 0.65357, saving model to next_words.h5\n",
            "1969/1969 [==============================] - 30s 15ms/step - loss: 0.6536\n",
            "Epoch 35/70\n",
            "1969/1969 [==============================] - ETA: 0s - loss: 0.6402\n",
            "Epoch 35: loss improved from 0.65357 to 0.64024, saving model to next_words.h5\n",
            "1969/1969 [==============================] - 30s 15ms/step - loss: 0.6402\n",
            "Epoch 36/70\n",
            "1967/1969 [============================>.] - ETA: 0s - loss: 0.6249\n",
            "Epoch 36: loss improved from 0.64024 to 0.62509, saving model to next_words.h5\n",
            "1969/1969 [==============================] - 30s 15ms/step - loss: 0.6251\n",
            "Epoch 37/70\n",
            "1969/1969 [==============================] - ETA: 0s - loss: 0.6142\n",
            "Epoch 37: loss improved from 0.62509 to 0.61416, saving model to next_words.h5\n",
            "1969/1969 [==============================] - 30s 15ms/step - loss: 0.6142\n",
            "Epoch 38/70\n",
            "1968/1969 [============================>.] - ETA: 0s - loss: 0.6023\n",
            "Epoch 38: loss improved from 0.61416 to 0.60237, saving model to next_words.h5\n",
            "1969/1969 [==============================] - 30s 15ms/step - loss: 0.6024\n",
            "Epoch 39/70\n",
            "1969/1969 [==============================] - ETA: 0s - loss: 0.5921\n",
            "Epoch 39: loss improved from 0.60237 to 0.59210, saving model to next_words.h5\n",
            "1969/1969 [==============================] - 30s 15ms/step - loss: 0.5921\n",
            "Epoch 40/70\n",
            "1968/1969 [============================>.] - ETA: 0s - loss: 0.5816\n",
            "Epoch 40: loss improved from 0.59210 to 0.58152, saving model to next_words.h5\n",
            "1969/1969 [==============================] - 30s 15ms/step - loss: 0.5815\n",
            "Epoch 41/70\n",
            "1968/1969 [============================>.] - ETA: 0s - loss: 0.5738\n",
            "Epoch 41: loss improved from 0.58152 to 0.57400, saving model to next_words.h5\n",
            "1969/1969 [==============================] - 30s 15ms/step - loss: 0.5740\n",
            "Epoch 42/70\n",
            "1968/1969 [============================>.] - ETA: 0s - loss: 0.5665\n",
            "Epoch 42: loss improved from 0.57400 to 0.56651, saving model to next_words.h5\n",
            "1969/1969 [==============================] - 30s 15ms/step - loss: 0.5665\n",
            "Epoch 43/70\n",
            "1967/1969 [============================>.] - ETA: 0s - loss: 0.5569\n",
            "Epoch 43: loss improved from 0.56651 to 0.55711, saving model to next_words.h5\n",
            "1969/1969 [==============================] - 30s 15ms/step - loss: 0.5571\n",
            "Epoch 44/70\n",
            "1968/1969 [============================>.] - ETA: 0s - loss: 0.5503\n",
            "Epoch 44: loss improved from 0.55711 to 0.55041, saving model to next_words.h5\n",
            "1969/1969 [==============================] - 30s 15ms/step - loss: 0.5504\n",
            "Epoch 45/70\n",
            "1967/1969 [============================>.] - ETA: 0s - loss: 0.5419\n",
            "Epoch 45: loss improved from 0.55041 to 0.54208, saving model to next_words.h5\n",
            "1969/1969 [==============================] - 30s 15ms/step - loss: 0.5421\n",
            "Epoch 46/70\n",
            "1966/1969 [============================>.] - ETA: 0s - loss: 0.5358\n",
            "Epoch 46: loss improved from 0.54208 to 0.53609, saving model to next_words.h5\n",
            "1969/1969 [==============================] - 30s 15ms/step - loss: 0.5361\n",
            "Epoch 47/70\n",
            "1966/1969 [============================>.] - ETA: 0s - loss: 0.5309\n",
            "Epoch 47: loss improved from 0.53609 to 0.53101, saving model to next_words.h5\n",
            "1969/1969 [==============================] - 30s 15ms/step - loss: 0.5310\n",
            "Epoch 48/70\n",
            "1967/1969 [============================>.] - ETA: 0s - loss: 0.5244\n",
            "Epoch 48: loss improved from 0.53101 to 0.52473, saving model to next_words.h5\n",
            "1969/1969 [==============================] - 30s 15ms/step - loss: 0.5247\n",
            "Epoch 49/70\n",
            "1967/1969 [============================>.] - ETA: 0s - loss: 0.5164\n",
            "Epoch 49: loss improved from 0.52473 to 0.51643, saving model to next_words.h5\n",
            "1969/1969 [==============================] - 30s 15ms/step - loss: 0.5164\n",
            "Epoch 50/70\n",
            "1969/1969 [==============================] - ETA: 0s - loss: 0.5123\n",
            "Epoch 50: loss improved from 0.51643 to 0.51233, saving model to next_words.h5\n",
            "1969/1969 [==============================] - 30s 15ms/step - loss: 0.5123\n",
            "Epoch 51/70\n",
            "1968/1969 [============================>.] - ETA: 0s - loss: 0.5066\n",
            "Epoch 51: loss improved from 0.51233 to 0.50673, saving model to next_words.h5\n",
            "1969/1969 [==============================] - 31s 15ms/step - loss: 0.5067\n",
            "Epoch 52/70\n",
            "1968/1969 [============================>.] - ETA: 0s - loss: 0.5028\n",
            "Epoch 52: loss improved from 0.50673 to 0.50284, saving model to next_words.h5\n",
            "1969/1969 [==============================] - 30s 15ms/step - loss: 0.5028\n",
            "Epoch 53/70\n",
            "1969/1969 [==============================] - ETA: 0s - loss: 0.4997\n",
            "Epoch 53: loss improved from 0.50284 to 0.49966, saving model to next_words.h5\n",
            "1969/1969 [==============================] - 30s 15ms/step - loss: 0.4997\n",
            "Epoch 54/70\n",
            "1967/1969 [============================>.] - ETA: 0s - loss: 0.4920\n",
            "Epoch 54: loss improved from 0.49966 to 0.49206, saving model to next_words.h5\n",
            "1969/1969 [==============================] - 30s 15ms/step - loss: 0.4921\n",
            "Epoch 55/70\n",
            "1968/1969 [============================>.] - ETA: 0s - loss: 0.4895\n",
            "Epoch 55: loss improved from 0.49206 to 0.48956, saving model to next_words.h5\n",
            "1969/1969 [==============================] - 30s 15ms/step - loss: 0.4896\n",
            "Epoch 56/70\n",
            "1969/1969 [==============================] - ETA: 0s - loss: 0.4871\n",
            "Epoch 56: loss improved from 0.48956 to 0.48709, saving model to next_words.h5\n",
            "1969/1969 [==============================] - 30s 15ms/step - loss: 0.4871\n",
            "Epoch 57/70\n",
            "1969/1969 [==============================] - ETA: 0s - loss: 0.4803\n",
            "Epoch 57: loss improved from 0.48709 to 0.48033, saving model to next_words.h5\n",
            "1969/1969 [==============================] - 30s 15ms/step - loss: 0.4803\n",
            "Epoch 58/70\n",
            "1967/1969 [============================>.] - ETA: 0s - loss: 0.4759\n",
            "Epoch 58: loss improved from 0.48033 to 0.47618, saving model to next_words.h5\n",
            "1969/1969 [==============================] - 30s 15ms/step - loss: 0.4762\n",
            "Epoch 59/70\n",
            "1969/1969 [==============================] - ETA: 0s - loss: 0.4764\n",
            "Epoch 59: loss did not improve from 0.47618\n",
            "1969/1969 [==============================] - 30s 15ms/step - loss: 0.4764\n",
            "Epoch 60/70\n",
            "1966/1969 [============================>.] - ETA: 0s - loss: 0.4701\n",
            "Epoch 60: loss improved from 0.47618 to 0.47035, saving model to next_words.h5\n",
            "1969/1969 [==============================] - 30s 15ms/step - loss: 0.4703\n",
            "Epoch 61/70\n",
            "1969/1969 [==============================] - ETA: 0s - loss: 0.4673\n",
            "Epoch 61: loss improved from 0.47035 to 0.46726, saving model to next_words.h5\n",
            "1969/1969 [==============================] - 30s 15ms/step - loss: 0.4673\n",
            "Epoch 62/70\n",
            "1968/1969 [============================>.] - ETA: 0s - loss: 0.4622\n",
            "Epoch 62: loss improved from 0.46726 to 0.46219, saving model to next_words.h5\n",
            "1969/1969 [==============================] - 30s 15ms/step - loss: 0.4622\n",
            "Epoch 63/70\n",
            "1967/1969 [============================>.] - ETA: 0s - loss: 0.4576\n",
            "Epoch 63: loss improved from 0.46219 to 0.45778, saving model to next_words.h5\n",
            "1969/1969 [==============================] - 30s 15ms/step - loss: 0.4578\n",
            "Epoch 64/70\n",
            "1966/1969 [============================>.] - ETA: 0s - loss: 0.4595\n",
            "Epoch 64: loss did not improve from 0.45778\n",
            "1969/1969 [==============================] - 29s 15ms/step - loss: 0.4598\n",
            "Epoch 65/70\n",
            "1966/1969 [============================>.] - ETA: 0s - loss: 0.4534\n",
            "Epoch 65: loss improved from 0.45778 to 0.45353, saving model to next_words.h5\n",
            "1969/1969 [==============================] - 30s 15ms/step - loss: 0.4535\n",
            "Epoch 66/70\n",
            "1969/1969 [==============================] - ETA: 0s - loss: 0.4527\n",
            "Epoch 66: loss improved from 0.45353 to 0.45272, saving model to next_words.h5\n",
            "1969/1969 [==============================] - 30s 15ms/step - loss: 0.4527\n",
            "Epoch 67/70\n",
            "1969/1969 [==============================] - ETA: 0s - loss: 0.4513\n",
            "Epoch 67: loss improved from 0.45272 to 0.45133, saving model to next_words.h5\n",
            "1969/1969 [==============================] - 30s 15ms/step - loss: 0.4513\n",
            "Epoch 68/70\n",
            "1969/1969 [==============================] - ETA: 0s - loss: 0.4482\n",
            "Epoch 68: loss improved from 0.45133 to 0.44818, saving model to next_words.h5\n",
            "1969/1969 [==============================] - 31s 16ms/step - loss: 0.4482\n",
            "Epoch 69/70\n",
            "1969/1969 [==============================] - ETA: 0s - loss: 0.4423\n",
            "Epoch 69: loss improved from 0.44818 to 0.44228, saving model to next_words.h5\n",
            "1969/1969 [==============================] - 30s 15ms/step - loss: 0.4423\n",
            "Epoch 70/70\n",
            "1969/1969 [==============================] - ETA: 0s - loss: 0.4404\n",
            "Epoch 70: loss improved from 0.44228 to 0.44036, saving model to next_words.h5\n",
            "1969/1969 [==============================] - 30s 15ms/step - loss: 0.4404\n"
          ]
        },
        {
          "output_type": "execute_result",
          "data": {
            "text/plain": [
              "<keras.callbacks.History at 0x7f768f1d12b0>"
            ]
          },
          "metadata": {},
          "execution_count": 16
        }
      ]
    },
    {
      "cell_type": "code",
      "source": [
        "from tensorflow.keras.models import load_model\n",
        "import numpy as np\n",
        "import pickle\n",
        "\n",
        "# Load the model and tokenizer\n",
        "model = load_model('next_words.h5')\n",
        "tokenizer = pickle.load(open('token.pkl', 'rb'))\n",
        "\n",
        "def Predict_Next_Words(model, tokenizer, text):\n",
        "\n",
        "  sequence = tokenizer.texts_to_sequences([text])\n",
        "  sequence = np.array(sequence)\n",
        "  preds = np.argmax(model.predict(sequence))\n",
        "  predicted_word = \"\"\n",
        "  \n",
        "  for key, value in tokenizer.word_index.items():\n",
        "      if value == preds:\n",
        "          predicted_word = key\n",
        "          break\n",
        "  \n",
        "  print(predicted_word)\n",
        "  return predicted_word"
      ],
      "metadata": {
        "id": "InchRiP7O3MJ"
      },
      "execution_count": 17,
      "outputs": []
    },
    {
      "cell_type": "code",
      "source": [
        "while(True):\n",
        "  text = input(\"Enter your line: \")\n",
        "  \n",
        "  if text == \"0\":\n",
        "      print(\"Execution completed.....\")\n",
        "      break\n",
        "  \n",
        "  else:\n",
        "      try:\n",
        "          text = text.split(\" \")\n",
        "          text = text[-3:]\n",
        "          print(text)\n",
        "        \n",
        "          Predict_Next_Words(model, tokenizer, text)\n",
        "          \n",
        "      except Exception as e:\n",
        "        print(\"Error occurred: \",e)\n",
        "        continue"
      ],
      "metadata": {
        "colab": {
          "base_uri": "https://localhost:8080/",
          "height": 1000
        },
        "id": "iszT6saxO6C4",
        "outputId": "7578d9dd-dd5d-474b-9520-f66eb97b9d8d"
      },
      "execution_count": 19,
      "outputs": [
        {
          "output_type": "stream",
          "name": "stdout",
          "text": [
            "Enter your line: it may all come to nothing \n",
            "['to', 'nothing', '']\n",
            "Error occurred:  in user code:\n",
            "\n",
            "    File \"/usr/local/lib/python3.8/dist-packages/keras/engine/training.py\", line 1845, in predict_function  *\n",
            "        return step_function(self, iterator)\n",
            "    File \"/usr/local/lib/python3.8/dist-packages/keras/engine/training.py\", line 1834, in step_function  **\n",
            "        outputs = model.distribute_strategy.run(run_step, args=(data,))\n",
            "    File \"/usr/local/lib/python3.8/dist-packages/keras/engine/training.py\", line 1823, in run_step  **\n",
            "        outputs = model.predict_step(data)\n",
            "    File \"/usr/local/lib/python3.8/dist-packages/keras/engine/training.py\", line 1791, in predict_step\n",
            "        return self(x, training=False)\n",
            "    File \"/usr/local/lib/python3.8/dist-packages/keras/utils/traceback_utils.py\", line 67, in error_handler\n",
            "        raise e.with_traceback(filtered_tb) from None\n",
            "    File \"/usr/local/lib/python3.8/dist-packages/keras/engine/input_spec.py\", line 264, in assert_input_compatibility\n",
            "        raise ValueError(f'Input {input_index} of layer \"{layer_name}\" is '\n",
            "\n",
            "    ValueError: Input 0 of layer \"sequential\" is incompatible with the layer: expected shape=(None, 3), found shape=(None, 2)\n",
            "\n",
            "Enter your line: hi\n",
            "['hi']\n",
            "Error occurred:  in user code:\n",
            "\n",
            "    File \"/usr/local/lib/python3.8/dist-packages/keras/engine/training.py\", line 1845, in predict_function  *\n",
            "        return step_function(self, iterator)\n",
            "    File \"/usr/local/lib/python3.8/dist-packages/keras/engine/training.py\", line 1834, in step_function  **\n",
            "        outputs = model.distribute_strategy.run(run_step, args=(data,))\n",
            "    File \"/usr/local/lib/python3.8/dist-packages/keras/engine/training.py\", line 1823, in run_step  **\n",
            "        outputs = model.predict_step(data)\n",
            "    File \"/usr/local/lib/python3.8/dist-packages/keras/engine/training.py\", line 1791, in predict_step\n",
            "        return self(x, training=False)\n",
            "    File \"/usr/local/lib/python3.8/dist-packages/keras/utils/traceback_utils.py\", line 67, in error_handler\n",
            "        raise e.with_traceback(filtered_tb) from None\n",
            "    File \"/usr/local/lib/python3.8/dist-packages/keras/engine/input_spec.py\", line 264, in assert_input_compatibility\n",
            "        raise ValueError(f'Input {input_index} of layer \"{layer_name}\" is '\n",
            "\n",
            "    ValueError: Input 0 of layer \"sequential\" is incompatible with the layer: expected shape=(None, 3), found shape=(None, 0)\n",
            "\n"
          ]
        },
        {
          "output_type": "error",
          "ename": "KeyboardInterrupt",
          "evalue": "ignored",
          "traceback": [
            "\u001b[0;31m---------------------------------------------------------------------------\u001b[0m",
            "\u001b[0;31mKeyboardInterrupt\u001b[0m                         Traceback (most recent call last)",
            "\u001b[0;32m<ipython-input-19-10cbba31caae>\u001b[0m in \u001b[0;36m<module>\u001b[0;34m\u001b[0m\n\u001b[1;32m      1\u001b[0m \u001b[0;32mwhile\u001b[0m\u001b[0;34m(\u001b[0m\u001b[0;32mTrue\u001b[0m\u001b[0;34m)\u001b[0m\u001b[0;34m:\u001b[0m\u001b[0;34m\u001b[0m\u001b[0;34m\u001b[0m\u001b[0m\n\u001b[0;32m----> 2\u001b[0;31m   \u001b[0mtext\u001b[0m \u001b[0;34m=\u001b[0m \u001b[0minput\u001b[0m\u001b[0;34m(\u001b[0m\u001b[0;34m\"Enter your line: \"\u001b[0m\u001b[0;34m)\u001b[0m\u001b[0;34m\u001b[0m\u001b[0;34m\u001b[0m\u001b[0m\n\u001b[0m\u001b[1;32m      3\u001b[0m \u001b[0;34m\u001b[0m\u001b[0m\n\u001b[1;32m      4\u001b[0m   \u001b[0;32mif\u001b[0m \u001b[0mtext\u001b[0m \u001b[0;34m==\u001b[0m \u001b[0;34m\"0\"\u001b[0m\u001b[0;34m:\u001b[0m\u001b[0;34m\u001b[0m\u001b[0;34m\u001b[0m\u001b[0m\n\u001b[1;32m      5\u001b[0m       \u001b[0mprint\u001b[0m\u001b[0;34m(\u001b[0m\u001b[0;34m\"Execution completed.....\"\u001b[0m\u001b[0;34m)\u001b[0m\u001b[0;34m\u001b[0m\u001b[0;34m\u001b[0m\u001b[0m\n",
            "\u001b[0;32m/usr/local/lib/python3.8/dist-packages/ipykernel/kernelbase.py\u001b[0m in \u001b[0;36mraw_input\u001b[0;34m(self, prompt)\u001b[0m\n\u001b[1;32m    858\u001b[0m                 \u001b[0;34m\"raw_input was called, but this frontend does not support input requests.\"\u001b[0m\u001b[0;34m\u001b[0m\u001b[0;34m\u001b[0m\u001b[0m\n\u001b[1;32m    859\u001b[0m             )\n\u001b[0;32m--> 860\u001b[0;31m         return self._input_request(str(prompt),\n\u001b[0m\u001b[1;32m    861\u001b[0m             \u001b[0mself\u001b[0m\u001b[0;34m.\u001b[0m\u001b[0m_parent_ident\u001b[0m\u001b[0;34m,\u001b[0m\u001b[0;34m\u001b[0m\u001b[0;34m\u001b[0m\u001b[0m\n\u001b[1;32m    862\u001b[0m             \u001b[0mself\u001b[0m\u001b[0;34m.\u001b[0m\u001b[0m_parent_header\u001b[0m\u001b[0;34m,\u001b[0m\u001b[0;34m\u001b[0m\u001b[0;34m\u001b[0m\u001b[0m\n",
            "\u001b[0;32m/usr/local/lib/python3.8/dist-packages/ipykernel/kernelbase.py\u001b[0m in \u001b[0;36m_input_request\u001b[0;34m(self, prompt, ident, parent, password)\u001b[0m\n\u001b[1;32m    902\u001b[0m             \u001b[0;32mexcept\u001b[0m \u001b[0mKeyboardInterrupt\u001b[0m\u001b[0;34m:\u001b[0m\u001b[0;34m\u001b[0m\u001b[0;34m\u001b[0m\u001b[0m\n\u001b[1;32m    903\u001b[0m                 \u001b[0;31m# re-raise KeyboardInterrupt, to truncate traceback\u001b[0m\u001b[0;34m\u001b[0m\u001b[0;34m\u001b[0m\u001b[0;34m\u001b[0m\u001b[0m\n\u001b[0;32m--> 904\u001b[0;31m                 \u001b[0;32mraise\u001b[0m \u001b[0mKeyboardInterrupt\u001b[0m\u001b[0;34m(\u001b[0m\u001b[0;34m\"Interrupted by user\"\u001b[0m\u001b[0;34m)\u001b[0m \u001b[0;32mfrom\u001b[0m \u001b[0;32mNone\u001b[0m\u001b[0;34m\u001b[0m\u001b[0;34m\u001b[0m\u001b[0m\n\u001b[0m\u001b[1;32m    905\u001b[0m             \u001b[0;32mexcept\u001b[0m \u001b[0mException\u001b[0m \u001b[0;32mas\u001b[0m \u001b[0me\u001b[0m\u001b[0;34m:\u001b[0m\u001b[0;34m\u001b[0m\u001b[0;34m\u001b[0m\u001b[0m\n\u001b[1;32m    906\u001b[0m                 \u001b[0mself\u001b[0m\u001b[0;34m.\u001b[0m\u001b[0mlog\u001b[0m\u001b[0;34m.\u001b[0m\u001b[0mwarning\u001b[0m\u001b[0;34m(\u001b[0m\u001b[0;34m\"Invalid Message:\"\u001b[0m\u001b[0;34m,\u001b[0m \u001b[0mexc_info\u001b[0m\u001b[0;34m=\u001b[0m\u001b[0;32mTrue\u001b[0m\u001b[0;34m)\u001b[0m\u001b[0;34m\u001b[0m\u001b[0;34m\u001b[0m\u001b[0m\n",
            "\u001b[0;31mKeyboardInterrupt\u001b[0m: Interrupted by user"
          ]
        }
      ]
    }
  ]
}